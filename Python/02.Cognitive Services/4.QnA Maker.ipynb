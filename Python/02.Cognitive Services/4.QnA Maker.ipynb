{
 "cells": [
  {
   "cell_type": "code",
   "execution_count": 1,
   "id": "dfa7288b",
   "metadata": {},
   "outputs": [],
   "source": [
    "import requests\n",
    "import json"
   ]
  },
  {
   "cell_type": "code",
   "execution_count": 6,
   "id": "4eb7bac6",
   "metadata": {},
   "outputs": [
    {
     "name": "stdout",
     "output_type": "stream",
     "text": [
      "https://daeguqnamaker.azurewebsites.net/luis/v2.0/apps/d78d6819-4ca2-4cb5-825e-be6657d12a15?verbose=true&timezoneOffset=0&subscription-key=7c87613c-9179-4696-ad5e-a4e3105260c3&q=시티투어 버스가 타고 싶어요\n",
      "<Response [404]>\n"
     ]
    }
   ],
   "source": [
    "try:\n",
    "\n",
    "    key = '7c87613c-9179-4696-ad5e-a4e3105260c3'  # <- Endpointkey\n",
    "    endpoint = 'https://daeguqnamaker.azurewebsites.net' # such as 'westus2.api.cognitive.microsoft.com'\n",
    "    appId = 'd78d6819-4ca2-4cb5-825e-be6657d12a15'\n",
    "    utterance = '시티투어 버스가 타고 싶어요'\n",
    "\n",
    "    headers = {\n",
    "    }\n",
    "\n",
    "    params ={\n",
    "        'query': utterance,\n",
    "        'timezoneOffset': '0',\n",
    "        'verbose': 'true',\n",
    "        'show-all-intents': 'true',\n",
    "        'spellCheck': 'false',\n",
    "        'staging': 'false',\n",
    "        'subscription-key': key\n",
    "    }\n",
    "    str = '%s/luis/v2.0/apps/%s?verbose=true&timezoneOffset=0&subscription-key=%s&q=%s'% (endpoint, appId, key,utterance)\n",
    "    print(str)\n",
    "    r = requests.get(str)\n",
    "    print(r)\n",
    "\n",
    "except Exception as e:\n",
    "    print(f'{e}')"
   ]
  },
  {
   "cell_type": "code",
   "execution_count": null,
   "id": "441fc686",
   "metadata": {},
   "outputs": [],
   "source": []
  }
 ],
 "metadata": {
  "kernelspec": {
   "display_name": "Python 3",
   "language": "python",
   "name": "python3"
  },
  "language_info": {
   "codemirror_mode": {
    "name": "ipython",
    "version": 3
   },
   "file_extension": ".py",
   "mimetype": "text/x-python",
   "name": "python",
   "nbconvert_exporter": "python",
   "pygments_lexer": "ipython3",
   "version": "3.8.8"
  }
 },
 "nbformat": 4,
 "nbformat_minor": 5
}

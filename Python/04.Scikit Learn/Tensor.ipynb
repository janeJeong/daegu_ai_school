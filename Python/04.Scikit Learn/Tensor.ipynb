{
 "cells": [
  {
   "cell_type": "markdown",
   "id": "bfc7ea75",
   "metadata": {},
   "source": [
    "# 신경망 데이터 표현"
   ]
  },
  {
   "cell_type": "code",
   "execution_count": 1,
   "id": "129b1d2d",
   "metadata": {},
   "outputs": [],
   "source": [
    "import numpy as np\n",
    "import matplotlib.pyplot as plt\n",
    "plt.style.use(['seaborn-whitegrid'])"
   ]
  },
  {
   "cell_type": "markdown",
   "id": "1023863f",
   "metadata": {},
   "source": [
    "## 텐서(Tensor)\n",
    "- 일반적으로 텐서는 3차원 이상을 다룰 때 표현하는 방식이지만, 여기서는 어떠한 데이터를 표현할 때, 그 값 모두를 텐서라고 부르기로 함\n",
    "\n",
    " a = np.array([1, 2])\n",
    "b = np.array([[1, 2],\n",
    "[3, 4]])\n",
    "c = np.array([10])\n",
    "d = np.array(3)\n",
    "a, b, c, d 모두 텐서라고 지칭할 수 있음\n",
    "- 랭크(rank): 텐서의 축을 나타내고, 넘파이(numpy)의 `ndim`으로 구할 수 있음\n",
    "\n",
    " a = np.array([1, 2])\n",
    ">> ndim = 1\n",
    "b = np.array([[1, 2],\n",
    "[3, 4]])\n",
    ">> ndim = 2\n",
    "d = np.array(3)\n",
    ">> ndim = 0\n",
    "위의 예시에서 알 수 있듯이 대괄호( [ ] )의 개수가 곧 랭크(축)의 값\n",
    "\n",
    "- 크기(shape): 텐서의 각 축을 따라 얼마나 많은 차원이 있는지를 나타내며, 파이썬의 튜플(tuple) 형태"
   ]
  },
  {
   "cell_type": "markdown",
   "id": "53368f78",
   "metadata": {},
   "source": [
    "## 그림으로 이해하기\n",
    "\n",
    "![array](https://www.oreilly.com/library/view/elegant-scipy/9781491922927/assets/elsp_0105.png)\n",
    "<br /><sub>출처: https://www.oreilly.com/library/view/elegant-scipy/9781491922927/ch01.html"
   ]
  },
  {
   "cell_type": "code",
   "execution_count": 4,
   "id": "66de896a",
   "metadata": {},
   "outputs": [
    {
     "name": "stdout",
     "output_type": "stream",
     "text": [
      "3\n",
      "()\n",
      "0\n"
     ]
    }
   ],
   "source": [
    "# 0차원 텐서\n",
    "\n",
    "x = np.array(3)\n",
    "print(x)\n",
    "print(x.shape)\n",
    "print(np.ndim(x))"
   ]
  },
  {
   "cell_type": "code",
   "execution_count": 5,
   "id": "f07feb54",
   "metadata": {},
   "outputs": [
    {
     "name": "stdout",
     "output_type": "stream",
     "text": [
      "[ 6  8 10 12]\n",
      "(4,)\n",
      "1\n"
     ]
    }
   ],
   "source": [
    "a = np.array([1,2,3,4])\n",
    "b = np.array([5,6,7,8])\n",
    "c = a + b\n",
    "\n",
    "print(c)\n",
    "print(c.shape)\n",
    "print(np.ndim(c))"
   ]
  },
  {
   "cell_type": "markdown",
   "id": "1f0f3d8e",
   "metadata": {},
   "source": [
    "### 벡터의 곱\n",
    "- $A = (x_1, \\ x_2, \\ x3, \\ ..., \\ x_n)$\n",
    "$B = (y_1, \\ y_2, \\ y3, \\ ..., \\ y_n)$ 일 때,\n",
    "- 원소곱\n",
    "- 같은 형상(shape)일 때, 각 원소별로 계산\n",
    "$A \\times B = (x_1, \\ x_2, \\ x_3, \\ ..., \\ x_n) \\times (y_1, \\ y_2, \\ y_3, \\ ..., \\ y_n) \\\\\n",
    "\\qquad = (x_1y_1, \\ x_2y_2, \\ x_3y_3, \\ ... \\ , \\ x_ny_n) $\n",
    "- 벡터곱(product, dot)\n",
    "- 두 1차원 벡터가 있을 때 **각각의 성분끼리의 곱을 모두 더하는 계산**\n",
    "$A \\bullet B \\Rightarrow A \\times B^T = (x_1, \\ x_2, \\ x_3, \\ ..., \\ x_n) \\begin{pmatrix} y_1 \\\\ y_2 \\\\ y_3 \\\\ ... \\\\ y_n \\end{pmatrix} \\\\\n",
    "\\qquad = (x_1y_1 + \\ x_2y_2 + \\ x_3y_3 + \\ ... + \\ x_ny_n) $"
   ]
  },
  {
   "cell_type": "code",
   "execution_count": 7,
   "id": "89c3286f",
   "metadata": {},
   "outputs": [
    {
     "name": "stdout",
     "output_type": "stream",
     "text": [
      "[ 5 12 21 32]\n",
      "(4,)\n",
      "1\n",
      "------------------------\n",
      "4\n",
      "()\n",
      "0\n"
     ]
    }
   ],
   "source": [
    "a = np.array([1,2,3,4])\n",
    "b = np.array([5,6,7,8])\n",
    "c = a * b\n",
    "\n",
    "print(c)\n",
    "print(c.shape)\n",
    "print(np.ndim(c))\n",
    "print('------------------------')\n",
    "\n",
    "x = np.array([1,2,0])\n",
    "y = np.array([0,2,1])\n",
    "z = np.dot(x,y)\n",
    "\n",
    "print(z)\n",
    "print(z.shape)\n",
    "print(np.ndim(z))"
   ]
  },
  {
   "cell_type": "code",
   "execution_count": 9,
   "id": "dae81584",
   "metadata": {},
   "outputs": [
    {
     "name": "stdout",
     "output_type": "stream",
     "text": [
      "[10 20 30]\n"
     ]
    }
   ],
   "source": [
    "a = np.array(10)\n",
    "b = np.array([1, 2, 3])\n",
    "\n",
    "print(a*b)"
   ]
  },
  {
   "cell_type": "code",
   "execution_count": 10,
   "id": "e70953d9",
   "metadata": {},
   "outputs": [
    {
     "name": "stdout",
     "output_type": "stream",
     "text": [
      "[[1 2 3]\n",
      " [4 5 6]]\n",
      "(2, 3)\n",
      "2\n",
      "-----------------\n",
      "[[1 2 3 4]]\n",
      "(1, 4)\n",
      "2\n"
     ]
    }
   ],
   "source": [
    "matrix = np.array([[1,2,3],\n",
    "[4,5,6]])\n",
    "print(matrix)\n",
    "print(matrix.shape)\n",
    "print(np.ndim(matrix))\n",
    "print('-----------------')\n",
    "\n",
    "matrix2 = np.array([[1,2,3,4]])\n",
    "print(matrix2)\n",
    "print(matrix2.shape)\n",
    "print(np.ndim(matrix2))"
   ]
  },
  {
   "cell_type": "markdown",
   "id": "334c3bdc",
   "metadata": {},
   "source": [
    "## 3차원 텐서\n",
    "- 보통 이미지를 나타낼 때 사용되는 텐서\n",
    "- (width, height, channels)\n",
    "- 일반적으로 Numpy array로 표현\n",
    "![3d tensor](https://image.slidesharecdn.com/tensordecomposition-170301235239/95/a-brief-survey-of-tensors-5-638.jpg)\n",
    "<br /><sub>출처: https://www.slideshare.net/BertonEarnshaw/a-brief-survey-of-tensors\n",
    "- 시계열 데이터 또는 시퀀스(sequence) 데이터를 표현할 때도 사용\n",
    "- (samples, timesteps, features)\n",
    "- (예시) 주식 가격 데이터셋, 시간에 따른 질병 발병 건수\n",
    "![](https://kr.mathworks.com/help/deeplearning/examples/timeseriesforecastingusingdeeplearningexample_01_ko_KR.png)\n",
    "<br /><sub>출처: https://kr.mathworks.com/help/deeplearning/examples/time-series-forecasting-using-deep-learning.html"
   ]
  },
  {
   "cell_type": "code",
   "execution_count": null,
   "id": "1e27c835",
   "metadata": {},
   "outputs": [],
   "source": []
  }
 ],
 "metadata": {
  "kernelspec": {
   "display_name": "Python 3",
   "language": "python",
   "name": "python3"
  },
  "language_info": {
   "codemirror_mode": {
    "name": "ipython",
    "version": 3
   },
   "file_extension": ".py",
   "mimetype": "text/x-python",
   "name": "python",
   "nbconvert_exporter": "python",
   "pygments_lexer": "ipython3",
   "version": "3.8.8"
  }
 },
 "nbformat": 4,
 "nbformat_minor": 5
}

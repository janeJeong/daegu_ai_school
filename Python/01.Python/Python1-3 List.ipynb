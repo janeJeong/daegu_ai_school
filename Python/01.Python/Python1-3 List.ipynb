{
 "cells": [
  {
   "cell_type": "markdown",
   "id": "bd8b8d93",
   "metadata": {},
   "source": [
    "# 리스트의 실습"
   ]
  },
  {
   "cell_type": "code",
   "execution_count": 1,
   "id": "aa935d13",
   "metadata": {},
   "outputs": [],
   "source": [
    "# 배열 칸마다 한 글자씩 들어가는 것 (인덱싱?)\n",
    "# 리스트는 배열보다 큰 개념\n",
    "colors = ['red', 'green', 'gold']"
   ]
  },
  {
   "cell_type": "code",
   "execution_count": 2,
   "id": "e80c0c18",
   "metadata": {},
   "outputs": [
    {
     "data": {
      "text/plain": [
       "list"
      ]
     },
     "execution_count": 2,
     "metadata": {},
     "output_type": "execute_result"
    }
   ],
   "source": [
    "type(colors)"
   ]
  },
  {
   "cell_type": "code",
   "execution_count": 3,
   "id": "80d4f64a",
   "metadata": {},
   "outputs": [],
   "source": [
    "colors.append('blue')  # append는 뒤(끝)에 추가하는 것"
   ]
  },
  {
   "cell_type": "code",
   "execution_count": 4,
   "id": "99526d70",
   "metadata": {},
   "outputs": [
    {
     "data": {
      "text/plain": [
       "['red', 'green', 'gold', 'blue']"
      ]
     },
     "execution_count": 4,
     "metadata": {},
     "output_type": "execute_result"
    }
   ],
   "source": [
    "colors"
   ]
  },
  {
   "cell_type": "code",
   "execution_count": 5,
   "id": "fd4bc482",
   "metadata": {},
   "outputs": [],
   "source": [
    "colors.insert(1, 'black')  # insert는 원하는 인덱스 자리에 추가하는 것, .inser(추가할 위치, 추가할 값)"
   ]
  },
  {
   "cell_type": "code",
   "execution_count": 6,
   "id": "34b3842b",
   "metadata": {},
   "outputs": [
    {
     "data": {
      "text/plain": [
       "['red', 'black', 'green', 'gold', 'blue']"
      ]
     },
     "execution_count": 6,
     "metadata": {},
     "output_type": "execute_result"
    }
   ],
   "source": [
    "colors"
   ]
  },
  {
   "cell_type": "code",
   "execution_count": 7,
   "id": "a447a464",
   "metadata": {},
   "outputs": [],
   "source": [
    "colors.extend(['white', 'gray'])  \n",
    "# extend는 여러 개를 한 번(또 다른 리스트 하나를 통째로 갖다 붙이는 것)에 추가하는 것, \n",
    "# .extend()는 []을 써줘야 함. 위치를 정할 수는 없음"
   ]
  },
  {
   "cell_type": "code",
   "execution_count": 8,
   "id": "be97fb4d",
   "metadata": {},
   "outputs": [
    {
     "data": {
      "text/plain": [
       "['red', 'black', 'green', 'gold', 'blue', 'white', 'gray']"
      ]
     },
     "execution_count": 8,
     "metadata": {},
     "output_type": "execute_result"
    }
   ],
   "source": [
    "colors"
   ]
  },
  {
   "cell_type": "code",
   "execution_count": 9,
   "id": "daf781bd",
   "metadata": {},
   "outputs": [],
   "source": [
    "colors += ['red']       # => colors = colors + ['red']"
   ]
  },
  {
   "cell_type": "code",
   "execution_count": 10,
   "id": "446708c0",
   "metadata": {},
   "outputs": [
    {
     "data": {
      "text/plain": [
       "['red', 'black', 'green', 'gold', 'blue', 'white', 'gray', 'red']"
      ]
     },
     "execution_count": 10,
     "metadata": {},
     "output_type": "execute_result"
    }
   ],
   "source": [
    "colors"
   ]
  },
  {
   "cell_type": "code",
   "execution_count": 11,
   "id": "31a45db8",
   "metadata": {},
   "outputs": [],
   "source": [
    "colors += 'red'"
   ]
  },
  {
   "cell_type": "code",
   "execution_count": 12,
   "id": "4acfd348",
   "metadata": {},
   "outputs": [
    {
     "data": {
      "text/plain": [
       "['red',\n",
       " 'black',\n",
       " 'green',\n",
       " 'gold',\n",
       " 'blue',\n",
       " 'white',\n",
       " 'gray',\n",
       " 'red',\n",
       " 'r',\n",
       " 'e',\n",
       " 'd']"
      ]
     },
     "execution_count": 12,
     "metadata": {},
     "output_type": "execute_result"
    }
   ],
   "source": [
    "colors   # 리스트 객체에 무엇을 붙이려 하면 []를 꼭 써야함 -> 아니면 하나하나 따로 들어감"
   ]
  },
  {
   "cell_type": "code",
   "execution_count": 13,
   "id": "e9d85c47",
   "metadata": {},
   "outputs": [
    {
     "data": {
      "text/plain": [
       "0"
      ]
     },
     "execution_count": 13,
     "metadata": {},
     "output_type": "execute_result"
    }
   ],
   "source": [
    "colors.index('red')  # red가 colors라는 리스트 안에 존재하는 가를 확인해줌(몇 번째에 존재하는가)"
   ]
  },
  {
   "cell_type": "code",
   "execution_count": 15,
   "id": "4635ccfb",
   "metadata": {},
   "outputs": [
    {
     "data": {
      "text/plain": [
       "4"
      ]
     },
     "execution_count": 15,
     "metadata": {},
     "output_type": "execute_result"
    }
   ],
   "source": [
    "colors.index('blue')"
   ]
  },
  {
   "cell_type": "code",
   "execution_count": 16,
   "id": "b32daf1b",
   "metadata": {},
   "outputs": [
    {
     "data": {
      "text/plain": [
       "7"
      ]
     },
     "execution_count": 16,
     "metadata": {},
     "output_type": "execute_result"
    }
   ],
   "source": [
    "colors.index('red',1)  # 인덱스 1에서 부터 뒤져서 'red'가 몇 번째에 있는지 찾아줌"
   ]
  },
  {
   "cell_type": "code",
   "execution_count": 17,
   "id": "8ce5ba05",
   "metadata": {},
   "outputs": [
    {
     "data": {
      "text/plain": [
       "2"
      ]
     },
     "execution_count": 17,
     "metadata": {},
     "output_type": "execute_result"
    }
   ],
   "source": [
    "colors.count('red')  # colors에서 'red'가 몇 개나 있는지 찾아줌"
   ]
  },
  {
   "cell_type": "code",
   "execution_count": 18,
   "id": "48125220",
   "metadata": {},
   "outputs": [],
   "source": [
    "# FILO 구조 - First In Last Out (먼저 들어간 애가 마지막에 나옴) 막혀있는 구조 => Stack\n",
    "# Stak overflow - 정해진 메모리 초과\n",
    "# stack에 집어넣는 것 = Push / 끄집어 내는 것 = Pop (안에서 지워지는 것)\n",
    "# 리스트 구조도 stack 구조와 비슷하게 생각 할 수 있음.\n",
    "\n",
    "# FIFO 구조 - First In First Out (먼저 들어간 애가 먼저 나옴) 뚫려있는 구조"
   ]
  },
  {
   "cell_type": "code",
   "execution_count": 19,
   "id": "b63ab581",
   "metadata": {},
   "outputs": [
    {
     "data": {
      "text/plain": [
       "['red',\n",
       " 'black',\n",
       " 'green',\n",
       " 'gold',\n",
       " 'blue',\n",
       " 'white',\n",
       " 'gray',\n",
       " 'red',\n",
       " 'r',\n",
       " 'e',\n",
       " 'd']"
      ]
     },
     "execution_count": 19,
     "metadata": {},
     "output_type": "execute_result"
    }
   ],
   "source": [
    "colors"
   ]
  },
  {
   "cell_type": "code",
   "execution_count": 20,
   "id": "acd52b01",
   "metadata": {},
   "outputs": [
    {
     "data": {
      "text/plain": [
       "'d'"
      ]
     },
     "execution_count": 20,
     "metadata": {},
     "output_type": "execute_result"
    }
   ],
   "source": [
    "colors.pop()"
   ]
  },
  {
   "cell_type": "code",
   "execution_count": 21,
   "id": "b3892488",
   "metadata": {},
   "outputs": [
    {
     "data": {
      "text/plain": [
       "'e'"
      ]
     },
     "execution_count": 21,
     "metadata": {},
     "output_type": "execute_result"
    }
   ],
   "source": [
    "colors.pop()"
   ]
  },
  {
   "cell_type": "code",
   "execution_count": 22,
   "id": "3ec95239",
   "metadata": {},
   "outputs": [
    {
     "data": {
      "text/plain": [
       "'black'"
      ]
     },
     "execution_count": 22,
     "metadata": {},
     "output_type": "execute_result"
    }
   ],
   "source": [
    "# c언어에서는 중간에 있는 것 제거 x, 파이썬에서는 가능\n",
    "\n",
    "colors.pop(1)  # 인덱스 1에 있는 것 빠져나옴(삭제)"
   ]
  },
  {
   "cell_type": "code",
   "execution_count": 23,
   "id": "dc546c52",
   "metadata": {},
   "outputs": [
    {
     "data": {
      "text/plain": [
       "['red', 'green', 'gold', 'blue', 'white', 'gray', 'red', 'r']"
      ]
     },
     "execution_count": 23,
     "metadata": {},
     "output_type": "execute_result"
    }
   ],
   "source": [
    "colors"
   ]
  },
  {
   "cell_type": "code",
   "execution_count": 24,
   "id": "3be4f3ae",
   "metadata": {},
   "outputs": [],
   "source": [
    "colors.remove('gold')   # []가 필요 없는 이유는 remove, append 등의 명령이 list 타입에 속해있는 명령이기 때문에"
   ]
  },
  {
   "cell_type": "code",
   "execution_count": 25,
   "id": "5e880a74",
   "metadata": {},
   "outputs": [
    {
     "data": {
      "text/plain": [
       "['red', 'green', 'blue', 'white', 'gray', 'red', 'r']"
      ]
     },
     "execution_count": 25,
     "metadata": {},
     "output_type": "execute_result"
    }
   ],
   "source": [
    "colors"
   ]
  },
  {
   "cell_type": "code",
   "execution_count": 26,
   "id": "e81e842c",
   "metadata": {},
   "outputs": [],
   "source": [
    "colors.sort()  # sort -> 정렬"
   ]
  },
  {
   "cell_type": "code",
   "execution_count": 27,
   "id": "3134a744",
   "metadata": {},
   "outputs": [
    {
     "data": {
      "text/plain": [
       "['blue', 'gray', 'green', 'r', 'red', 'red', 'white']"
      ]
     },
     "execution_count": 27,
     "metadata": {},
     "output_type": "execute_result"
    }
   ],
   "source": [
    "colors"
   ]
  },
  {
   "cell_type": "code",
   "execution_count": 28,
   "id": "6d8c33a1",
   "metadata": {},
   "outputs": [],
   "source": [
    "colors.reverse()  # reverse -> 역순 정렬"
   ]
  },
  {
   "cell_type": "code",
   "execution_count": 29,
   "id": "8d38cb93",
   "metadata": {},
   "outputs": [
    {
     "data": {
      "text/plain": [
       "['white', 'red', 'red', 'r', 'green', 'gray', 'blue']"
      ]
     },
     "execution_count": 29,
     "metadata": {},
     "output_type": "execute_result"
    }
   ],
   "source": [
    "colors"
   ]
  },
  {
   "cell_type": "code",
   "execution_count": 30,
   "id": "c2409eee",
   "metadata": {},
   "outputs": [],
   "source": [
    "colors.remove('red')   # .remove는 여러 개를 한 번에 삭제할 수는 없음. 한 번에 하나씩만 삭제 가능!"
   ]
  },
  {
   "cell_type": "code",
   "execution_count": 31,
   "id": "440eeb95",
   "metadata": {},
   "outputs": [
    {
     "data": {
      "text/plain": [
       "['white', 'red', 'r', 'green', 'gray', 'blue']"
      ]
     },
     "execution_count": 31,
     "metadata": {},
     "output_type": "execute_result"
    }
   ],
   "source": [
    "colors"
   ]
  },
  {
   "cell_type": "code",
   "execution_count": 32,
   "id": "26b65630",
   "metadata": {},
   "outputs": [],
   "source": [
    "colors.remove('red')"
   ]
  },
  {
   "cell_type": "code",
   "execution_count": 33,
   "id": "56d9a082",
   "metadata": {},
   "outputs": [
    {
     "data": {
      "text/plain": [
       "['white', 'r', 'green', 'gray', 'blue']"
      ]
     },
     "execution_count": 33,
     "metadata": {},
     "output_type": "execute_result"
    }
   ],
   "source": [
    "colors"
   ]
  },
  {
   "cell_type": "code",
   "execution_count": 34,
   "id": "68cb178a",
   "metadata": {},
   "outputs": [
    {
     "ename": "ValueError",
     "evalue": "'red' is not in list",
     "output_type": "error",
     "traceback": [
      "\u001b[1;31m---------------------------------------------------------------------------\u001b[0m",
      "\u001b[1;31mValueError\u001b[0m                                Traceback (most recent call last)",
      "\u001b[1;32m<ipython-input-34-7ca660ae5aa8>\u001b[0m in \u001b[0;36m<module>\u001b[1;34m\u001b[0m\n\u001b[1;32m----> 1\u001b[1;33m \u001b[0mcolors\u001b[0m\u001b[1;33m.\u001b[0m\u001b[0mindex\u001b[0m\u001b[1;33m(\u001b[0m\u001b[1;34m'red'\u001b[0m\u001b[1;33m)\u001b[0m\u001b[1;33m\u001b[0m\u001b[1;33m\u001b[0m\u001b[0m\n\u001b[0m",
      "\u001b[1;31mValueError\u001b[0m: 'red' is not in list"
     ]
    }
   ],
   "source": [
    "colors.index('red')   # 'red'가 없으니까 error"
   ]
  },
  {
   "cell_type": "markdown",
   "id": "fe1fb1f3",
   "metadata": {},
   "source": [
    "# 세트 (Set)"
   ]
  },
  {
   "cell_type": "code",
   "execution_count": 35,
   "id": "4b65bbe9",
   "metadata": {},
   "outputs": [],
   "source": [
    "a = {1, 2, 3}"
   ]
  },
  {
   "cell_type": "code",
   "execution_count": 36,
   "id": "e41debca",
   "metadata": {},
   "outputs": [],
   "source": [
    "b = {3, 4, 5}"
   ]
  },
  {
   "cell_type": "code",
   "execution_count": 37,
   "id": "70294a8a",
   "metadata": {},
   "outputs": [
    {
     "data": {
      "text/plain": [
       "set"
      ]
     },
     "execution_count": 37,
     "metadata": {},
     "output_type": "execute_result"
    }
   ],
   "source": [
    "type(a)"
   ]
  },
  {
   "cell_type": "code",
   "execution_count": 38,
   "id": "e7b00a85",
   "metadata": {},
   "outputs": [
    {
     "data": {
      "text/plain": [
       "{1, 2, 3, 4, 5}"
      ]
     },
     "execution_count": 38,
     "metadata": {},
     "output_type": "execute_result"
    }
   ],
   "source": [
    "a.union(b)    # -> a와 b의 합집합 (중복되는 것은 한 번만 나옴)"
   ]
  },
  {
   "cell_type": "code",
   "execution_count": 39,
   "id": "adeb49ad",
   "metadata": {},
   "outputs": [
    {
     "data": {
      "text/plain": [
       "{3}"
      ]
     },
     "execution_count": 39,
     "metadata": {},
     "output_type": "execute_result"
    }
   ],
   "source": [
    "a.intersection(b)  # -> a와 b의 교집합"
   ]
  },
  {
   "cell_type": "code",
   "execution_count": 40,
   "id": "4080f5cb",
   "metadata": {},
   "outputs": [
    {
     "data": {
      "text/plain": [
       "{1, 2}"
      ]
     },
     "execution_count": 40,
     "metadata": {},
     "output_type": "execute_result"
    }
   ],
   "source": [
    "a - b  # 차집합"
   ]
  },
  {
   "cell_type": "code",
   "execution_count": 41,
   "id": "a86ec1d0",
   "metadata": {},
   "outputs": [
    {
     "data": {
      "text/plain": [
       "{1, 2, 3, 4, 5}"
      ]
     },
     "execution_count": 41,
     "metadata": {},
     "output_type": "execute_result"
    }
   ],
   "source": [
    "a | b  # 합집합"
   ]
  },
  {
   "cell_type": "code",
   "execution_count": 42,
   "id": "1699d6f4",
   "metadata": {},
   "outputs": [
    {
     "data": {
      "text/plain": [
       "{3}"
      ]
     },
     "execution_count": 42,
     "metadata": {},
     "output_type": "execute_result"
    }
   ],
   "source": [
    "a & b  # 교집합"
   ]
  },
  {
   "cell_type": "markdown",
   "id": "09b77f62",
   "metadata": {},
   "source": [
    "# 튜플 (tuple)"
   ]
  },
  {
   "cell_type": "code",
   "execution_count": 1,
   "id": "bfaaf7a7",
   "metadata": {},
   "outputs": [],
   "source": [
    "t = (1, 2, 3)  # list[] > set{} > tuple() 순으로 무거움(메모리에 부담을 주는)"
   ]
  },
  {
   "cell_type": "code",
   "execution_count": 2,
   "id": "350c7def",
   "metadata": {},
   "outputs": [
    {
     "data": {
      "text/plain": [
       "tuple"
      ]
     },
     "execution_count": 2,
     "metadata": {},
     "output_type": "execute_result"
    }
   ],
   "source": [
    "type(t)"
   ]
  },
  {
   "cell_type": "code",
   "execution_count": 3,
   "id": "cbf48ed5",
   "metadata": {},
   "outputs": [],
   "source": [
    "# a = 1\n",
    "# b = 2  -> 일반적으로 변수를 넣을 때, 이렇게 씀 but\n",
    "a, b = 1, 2"
   ]
  },
  {
   "cell_type": "code",
   "execution_count": 6,
   "id": "e708ef3a",
   "metadata": {},
   "outputs": [
    {
     "name": "stdout",
     "output_type": "stream",
     "text": [
      "1 2\n"
     ]
    }
   ],
   "source": [
    "print(a, b)"
   ]
  },
  {
   "cell_type": "code",
   "execution_count": 7,
   "id": "6b368876",
   "metadata": {},
   "outputs": [
    {
     "data": {
      "text/plain": [
       "1"
      ]
     },
     "execution_count": 7,
     "metadata": {},
     "output_type": "execute_result"
    }
   ],
   "source": [
    "a"
   ]
  },
  {
   "cell_type": "code",
   "execution_count": 11,
   "id": "821f45cc",
   "metadata": {},
   "outputs": [
    {
     "data": {
      "text/plain": [
       "2"
      ]
     },
     "execution_count": 11,
     "metadata": {},
     "output_type": "execute_result"
    }
   ],
   "source": [
    "b"
   ]
  },
  {
   "cell_type": "code",
   "execution_count": 15,
   "id": "df3ec403",
   "metadata": {},
   "outputs": [],
   "source": [
    "# Swapping\n",
    "# 일반적인 스와핑 -> (새로운 변수)c = a, a = b, b = c -> 이렇게 하면 a, b 값이 바뀐다. \n",
    "# but 파이썬에서는 아래 방식이 가능\n",
    "a, b = b, a"
   ]
  },
  {
   "cell_type": "code",
   "execution_count": 18,
   "id": "df79cab8",
   "metadata": {},
   "outputs": [
    {
     "name": "stdout",
     "output_type": "stream",
     "text": [
      "2 1\n"
     ]
    }
   ],
   "source": [
    "print(a, b)  # -> 내부적으로(a, b) = (b, a)와 같은 형식임"
   ]
  },
  {
   "cell_type": "code",
   "execution_count": 19,
   "id": "a383de6b",
   "metadata": {},
   "outputs": [],
   "source": [
    "(a, b) = (b, a)"
   ]
  },
  {
   "cell_type": "code",
   "execution_count": 20,
   "id": "82871b09",
   "metadata": {},
   "outputs": [
    {
     "name": "stdout",
     "output_type": "stream",
     "text": [
      "1 2\n"
     ]
    }
   ],
   "source": [
    "print(a, b)"
   ]
  },
  {
   "cell_type": "code",
   "execution_count": 24,
   "id": "d9261c77",
   "metadata": {},
   "outputs": [],
   "source": [
    "# list > set > tuple\n",
    "\n",
    "a = set((1, 2, 3))"
   ]
  },
  {
   "cell_type": "code",
   "execution_count": 25,
   "id": "5e83709a",
   "metadata": {},
   "outputs": [
    {
     "data": {
      "text/plain": [
       "{1, 2, 3}"
      ]
     },
     "execution_count": 25,
     "metadata": {},
     "output_type": "execute_result"
    }
   ],
   "source": [
    "a"
   ]
  },
  {
   "cell_type": "code",
   "execution_count": 26,
   "id": "eb6e5ec4",
   "metadata": {},
   "outputs": [],
   "source": [
    "b = list(a)"
   ]
  },
  {
   "cell_type": "code",
   "execution_count": 27,
   "id": "9e616fd0",
   "metadata": {},
   "outputs": [
    {
     "data": {
      "text/plain": [
       "[1, 2, 3]"
      ]
     },
     "execution_count": 27,
     "metadata": {},
     "output_type": "execute_result"
    }
   ],
   "source": [
    "b"
   ]
  },
  {
   "cell_type": "code",
   "execution_count": 28,
   "id": "28507fff",
   "metadata": {},
   "outputs": [],
   "source": [
    "c = tuple(b)"
   ]
  },
  {
   "cell_type": "code",
   "execution_count": 29,
   "id": "754d25ca",
   "metadata": {},
   "outputs": [
    {
     "data": {
      "text/plain": [
       "(1, 2, 3)"
      ]
     },
     "execution_count": 29,
     "metadata": {},
     "output_type": "execute_result"
    }
   ],
   "source": [
    "c"
   ]
  },
  {
   "cell_type": "code",
   "execution_count": 30,
   "id": "64730d5c",
   "metadata": {},
   "outputs": [
    {
     "data": {
      "text/plain": [
       "True"
      ]
     },
     "execution_count": 30,
     "metadata": {},
     "output_type": "execute_result"
    }
   ],
   "source": [
    "3 in c  # -> 3이라는 요소가 c에 있는가?"
   ]
  },
  {
   "cell_type": "code",
   "execution_count": 31,
   "id": "cfd767e3",
   "metadata": {},
   "outputs": [
    {
     "data": {
      "text/plain": [
       "False"
      ]
     },
     "execution_count": 31,
     "metadata": {},
     "output_type": "execute_result"
    }
   ],
   "source": [
    "4 in c"
   ]
  },
  {
   "cell_type": "markdown",
   "id": "1d3e9c14",
   "metadata": {},
   "source": [
    "# 사전 (Dictionary)"
   ]
  },
  {
   "cell_type": "code",
   "execution_count": 32,
   "id": "37a23a6f",
   "metadata": {},
   "outputs": [],
   "source": [
    "# dict 타입은 key와 value로 구성된다.\n",
    "\n",
    "d = dict(a = 1, b = 3, c = 5)   # a, b, c = key / 1, 3, 5 = value"
   ]
  },
  {
   "cell_type": "code",
   "execution_count": 33,
   "id": "4860390a",
   "metadata": {},
   "outputs": [
    {
     "data": {
      "text/plain": [
       "{'a': 1, 'b': 3, 'c': 5}"
      ]
     },
     "execution_count": 33,
     "metadata": {},
     "output_type": "execute_result"
    }
   ],
   "source": [
    "d"
   ]
  },
  {
   "cell_type": "code",
   "execution_count": 34,
   "id": "a7e949b5",
   "metadata": {},
   "outputs": [
    {
     "data": {
      "text/plain": [
       "dict"
      ]
     },
     "execution_count": 34,
     "metadata": {},
     "output_type": "execute_result"
    }
   ],
   "source": [
    "type(d)"
   ]
  },
  {
   "cell_type": "code",
   "execution_count": 35,
   "id": "9e4bfa4d",
   "metadata": {},
   "outputs": [],
   "source": [
    "color = {'apple' : 'red', 'banana' : 'yello'}"
   ]
  },
  {
   "cell_type": "code",
   "execution_count": 36,
   "id": "6b218901",
   "metadata": {},
   "outputs": [
    {
     "data": {
      "text/plain": [
       "{'apple': 'red', 'banana': 'yello'}"
      ]
     },
     "execution_count": 36,
     "metadata": {},
     "output_type": "execute_result"
    }
   ],
   "source": [
    "color"
   ]
  },
  {
   "cell_type": "code",
   "execution_count": 38,
   "id": "1684ffd3",
   "metadata": {},
   "outputs": [
    {
     "ename": "KeyError",
     "evalue": "0",
     "output_type": "error",
     "traceback": [
      "\u001b[1;31m---------------------------------------------------------------------------\u001b[0m",
      "\u001b[1;31mKeyError\u001b[0m                                  Traceback (most recent call last)",
      "\u001b[1;32m<ipython-input-38-258e6f0e9802>\u001b[0m in \u001b[0;36m<module>\u001b[1;34m\u001b[0m\n\u001b[1;32m----> 1\u001b[1;33m \u001b[0mcolor\u001b[0m\u001b[1;33m[\u001b[0m\u001b[1;36m0\u001b[0m\u001b[1;33m]\u001b[0m   \u001b[1;31m# dict 타입은 인덱스로 불러 올 수 x, 인덱스가 의미가 x\u001b[0m\u001b[1;33m\u001b[0m\u001b[1;33m\u001b[0m\u001b[0m\n\u001b[0m",
      "\u001b[1;31mKeyError\u001b[0m: 0"
     ]
    }
   ],
   "source": [
    "color[0]   # dict 타입은 인덱스로 불러 올 수 x, 인덱스가 의미가 x"
   ]
  },
  {
   "cell_type": "code",
   "execution_count": 39,
   "id": "e8e71871",
   "metadata": {},
   "outputs": [
    {
     "data": {
      "text/plain": [
       "'red'"
      ]
     },
     "execution_count": 39,
     "metadata": {},
     "output_type": "execute_result"
    }
   ],
   "source": [
    "color['apple']"
   ]
  },
  {
   "cell_type": "code",
   "execution_count": 43,
   "id": "2c354462",
   "metadata": {},
   "outputs": [],
   "source": [
    "color['cherry'] = 'red'  # 없는 값('cherry')를 넣어도 작동"
   ]
  },
  {
   "cell_type": "code",
   "execution_count": 45,
   "id": "53eae147",
   "metadata": {},
   "outputs": [
    {
     "data": {
      "text/plain": [
       "{'apple': 'red', 'banana': 'yello', 'cherry': 'red'}"
      ]
     },
     "execution_count": 45,
     "metadata": {},
     "output_type": "execute_result"
    }
   ],
   "source": [
    "color   # 추가됨"
   ]
  },
  {
   "cell_type": "code",
   "execution_count": 48,
   "id": "c8ec1b75",
   "metadata": {},
   "outputs": [],
   "source": [
    "color['apple'] = 'green'  # dict타입에서 key의 값은 유니크 해야함(한번에 하나의 값만 존재)\n",
    "                          # -> 따라서 없는 값을 쓰면 추가, 있는 값을 쓰면 덮어쓰기가 됌."
   ]
  },
  {
   "cell_type": "code",
   "execution_count": 49,
   "id": "9a0e6ccd",
   "metadata": {},
   "outputs": [
    {
     "data": {
      "text/plain": [
       "{'apple': 'green', 'banana': 'yello', 'cherry': 'red'}"
      ]
     },
     "execution_count": 49,
     "metadata": {},
     "output_type": "execute_result"
    }
   ],
   "source": [
    "color"
   ]
  },
  {
   "cell_type": "code",
   "execution_count": 51,
   "id": "8009f189",
   "metadata": {},
   "outputs": [
    {
     "name": "stdout",
     "output_type": "stream",
     "text": [
      "('apple', 'green')\n",
      "('banana', 'yello')\n",
      "('cherry', 'red')\n"
     ]
    }
   ],
   "source": [
    "# <반복문>\n",
    "for c in color.items():            # -> color에 있는 item들을 하나씩 c에 집어넣는 것을 반복한다.\n",
    "    print(c)                       #    더이상 반복할 게 없을시 끝 (넘겨 받은 값을 바로 print해라)\n",
    "                                   # -> .items() 함수는 안에 있는 key와 value의 한 쌍을 돌려 받는다."
   ]
  },
  {
   "cell_type": "code",
   "execution_count": 53,
   "id": "6c891df4",
   "metadata": {},
   "outputs": [
    {
     "name": "stdout",
     "output_type": "stream",
     "text": [
      "apple\n",
      "banana\n",
      "cherry\n"
     ]
    }
   ],
   "source": [
    "for k in color.keys():\n",
    "    print(k)                       # -> .keys() 함수는 안에 있는 key값만 돌려 받음."
   ]
  },
  {
   "cell_type": "code",
   "execution_count": 54,
   "id": "91e60389",
   "metadata": {},
   "outputs": [
    {
     "name": "stdout",
     "output_type": "stream",
     "text": [
      "green\n",
      "yello\n",
      "red\n"
     ]
    }
   ],
   "source": [
    "for v in color.values():\n",
    "    print(v)                      # -> values()                  value"
   ]
  },
  {
   "cell_type": "code",
   "execution_count": 55,
   "id": "41b9d17b",
   "metadata": {},
   "outputs": [
    {
     "name": "stdout",
     "output_type": "stream",
     "text": [
      "apple green\n",
      "banana yello\n",
      "cherry red\n"
     ]
    }
   ],
   "source": [
    "for k, v in color.items():\n",
    "    print(k, v)                   # -> 자동으로 key값은 k에 value값은 v에 들어간다."
   ]
  },
  {
   "cell_type": "code",
   "execution_count": 56,
   "id": "256f91d9",
   "metadata": {},
   "outputs": [
    {
     "data": {
      "text/plain": [
       "{'apple': 'green', 'banana': 'yello', 'cherry': 'red'}"
      ]
     },
     "execution_count": 56,
     "metadata": {},
     "output_type": "execute_result"
    }
   ],
   "source": [
    "color"
   ]
  },
  {
   "cell_type": "code",
   "execution_count": 57,
   "id": "c7de4fc4",
   "metadata": {},
   "outputs": [],
   "source": [
    "del color['cherry']"
   ]
  },
  {
   "cell_type": "code",
   "execution_count": 58,
   "id": "7d398d5b",
   "metadata": {},
   "outputs": [
    {
     "data": {
      "text/plain": [
       "{'apple': 'green', 'banana': 'yello'}"
      ]
     },
     "execution_count": 58,
     "metadata": {},
     "output_type": "execute_result"
    }
   ],
   "source": [
    "color"
   ]
  },
  {
   "cell_type": "code",
   "execution_count": 59,
   "id": "deb7ff72",
   "metadata": {},
   "outputs": [],
   "source": [
    "color['apple'] = ''      # -> 값(value)만 지우고 싶을 때, 사실상 공백을 주면 된다."
   ]
  },
  {
   "cell_type": "code",
   "execution_count": 60,
   "id": "c44909eb",
   "metadata": {},
   "outputs": [
    {
     "data": {
      "text/plain": [
       "{'apple': '', 'banana': 'yello'}"
      ]
     },
     "execution_count": 60,
     "metadata": {},
     "output_type": "execute_result"
    }
   ],
   "source": [
    "color"
   ]
  },
  {
   "cell_type": "code",
   "execution_count": 61,
   "id": "a5566fa3",
   "metadata": {},
   "outputs": [],
   "source": [
    "color.clear()            # .clear() 안에 든 내용 전체 삭제"
   ]
  },
  {
   "cell_type": "code",
   "execution_count": 62,
   "id": "80e06bc3",
   "metadata": {},
   "outputs": [
    {
     "data": {
      "text/plain": [
       "{}"
      ]
     },
     "execution_count": 62,
     "metadata": {},
     "output_type": "execute_result"
    }
   ],
   "source": [
    "color"
   ]
  },
  {
   "cell_type": "code",
   "execution_count": 63,
   "id": "21b0d576",
   "metadata": {},
   "outputs": [],
   "source": [
    "# dict 타입에서는 정렬, 순서 등이 중요한 것이 x, 영향 x"
   ]
  },
  {
   "cell_type": "code",
   "execution_count": 65,
   "id": "b4bdf741",
   "metadata": {},
   "outputs": [
    {
     "data": {
      "text/plain": [
       "{'age': 40.5, 'job': [1, 2, 3], 'name': {'Kim': 2}, 'cho': 1}"
      ]
     },
     "execution_count": 65,
     "metadata": {},
     "output_type": "execute_result"
    }
   ],
   "source": [
    "{'age' : 40.5, 'job' : [1, 2, 3], 'name' : {'Kim' : 2}, 'cho' : 1}  # 타입 혼재해서 사용 가능"
   ]
  },
  {
   "cell_type": "code",
   "execution_count": 66,
   "id": "a4cffc00",
   "metadata": {},
   "outputs": [
    {
     "data": {
      "text/plain": [
       "[1, 2, 3, 'green', {'apple': 1}]"
      ]
     },
     "execution_count": 66,
     "metadata": {},
     "output_type": "execute_result"
    }
   ],
   "source": [
    "[1, 2, 3, ('green'), {'apple' : 1}]"
   ]
  },
  {
   "cell_type": "markdown",
   "id": "12a6d769",
   "metadata": {},
   "source": [
    "# 부울(Bool)"
   ]
  },
  {
   "cell_type": "code",
   "execution_count": 67,
   "id": "d9c05991",
   "metadata": {},
   "outputs": [],
   "source": [
    "# bool 타입은 논리적인 구조(true, false)를 저장.\n",
    "\n",
    "isRight = False "
   ]
  },
  {
   "cell_type": "code",
   "execution_count": 68,
   "id": "3c413120",
   "metadata": {},
   "outputs": [
    {
     "data": {
      "text/plain": [
       "bool"
      ]
     },
     "execution_count": 68,
     "metadata": {},
     "output_type": "execute_result"
    }
   ],
   "source": [
    "type(isRight)"
   ]
  },
  {
   "cell_type": "code",
   "execution_count": 69,
   "id": "845ff1c8",
   "metadata": {},
   "outputs": [
    {
     "data": {
      "text/plain": [
       "True"
      ]
     },
     "execution_count": 69,
     "metadata": {},
     "output_type": "execute_result"
    }
   ],
   "source": [
    "1 < 2"
   ]
  },
  {
   "cell_type": "code",
   "execution_count": 70,
   "id": "66acd0ed",
   "metadata": {},
   "outputs": [
    {
     "data": {
      "text/plain": [
       "True"
      ]
     },
     "execution_count": 70,
     "metadata": {},
     "output_type": "execute_result"
    }
   ],
   "source": [
    "1 != 2  # ! -> 부정 , 1은 2가 아니다"
   ]
  },
  {
   "cell_type": "code",
   "execution_count": 71,
   "id": "eb7a37eb",
   "metadata": {},
   "outputs": [
    {
     "data": {
      "text/plain": [
       "False"
      ]
     },
     "execution_count": 71,
     "metadata": {},
     "output_type": "execute_result"
    }
   ],
   "source": [
    "1 == 2"
   ]
  },
  {
   "cell_type": "code",
   "execution_count": 72,
   "id": "e9dfbcbe",
   "metadata": {},
   "outputs": [
    {
     "data": {
      "text/plain": [
       "True"
      ]
     },
     "execution_count": 72,
     "metadata": {},
     "output_type": "execute_result"
    }
   ],
   "source": [
    "True and True    # and -> 둘 다 ture 일 때만 true / or ->  둘 중 하나만 true이면 true"
   ]
  },
  {
   "cell_type": "code",
   "execution_count": 73,
   "id": "6b1a54ce",
   "metadata": {},
   "outputs": [
    {
     "data": {
      "text/plain": [
       "True"
      ]
     },
     "execution_count": 73,
     "metadata": {},
     "output_type": "execute_result"
    }
   ],
   "source": [
    "True & True"
   ]
  },
  {
   "cell_type": "code",
   "execution_count": 75,
   "id": "0213b721",
   "metadata": {},
   "outputs": [
    {
     "data": {
      "text/plain": [
       "True"
      ]
     },
     "execution_count": 75,
     "metadata": {},
     "output_type": "execute_result"
    }
   ],
   "source": [
    "True or False"
   ]
  },
  {
   "cell_type": "code",
   "execution_count": 76,
   "id": "8729bdec",
   "metadata": {},
   "outputs": [
    {
     "data": {
      "text/plain": [
       "False"
      ]
     },
     "execution_count": 76,
     "metadata": {},
     "output_type": "execute_result"
    }
   ],
   "source": [
    "False | False"
   ]
  },
  {
   "cell_type": "code",
   "execution_count": 77,
   "id": "a0b5acef",
   "metadata": {},
   "outputs": [
    {
     "data": {
      "text/plain": [
       "False"
      ]
     },
     "execution_count": 77,
     "metadata": {},
     "output_type": "execute_result"
    }
   ],
   "source": [
    "not True"
   ]
  },
  {
   "cell_type": "markdown",
   "id": "f050167e",
   "metadata": {},
   "source": [
    "# 얕은 복사와 깊은 복사"
   ]
  },
  {
   "cell_type": "code",
   "execution_count": 78,
   "id": "9fe53c45",
   "metadata": {},
   "outputs": [],
   "source": [
    "a = [1, 2, 3]"
   ]
  },
  {
   "cell_type": "code",
   "execution_count": 79,
   "id": "3512f756",
   "metadata": {},
   "outputs": [],
   "source": [
    "b = a   # -> b라는 변수에다가 a라는 리스트 카피"
   ]
  },
  {
   "cell_type": "code",
   "execution_count": 80,
   "id": "9d1007ec",
   "metadata": {},
   "outputs": [
    {
     "data": {
      "text/plain": [
       "[1, 2, 3]"
      ]
     },
     "execution_count": 80,
     "metadata": {},
     "output_type": "execute_result"
    }
   ],
   "source": [
    "a "
   ]
  },
  {
   "cell_type": "code",
   "execution_count": 81,
   "id": "5c833dfb",
   "metadata": {},
   "outputs": [],
   "source": [
    "a[0] = 38  # a의 첫 번째 항목에 38을 집어넣음"
   ]
  },
  {
   "cell_type": "code",
   "execution_count": 82,
   "id": "46e7bfa6",
   "metadata": {},
   "outputs": [
    {
     "data": {
      "text/plain": [
       "[38, 2, 3]"
      ]
     },
     "execution_count": 82,
     "metadata": {},
     "output_type": "execute_result"
    }
   ],
   "source": [
    "a"
   ]
  },
  {
   "cell_type": "code",
   "execution_count": 85,
   "id": "3a970b3a",
   "metadata": {},
   "outputs": [
    {
     "data": {
      "text/plain": [
       "[38, 2, 3]"
      ]
     },
     "execution_count": 85,
     "metadata": {},
     "output_type": "execute_result"
    }
   ],
   "source": [
    "b         # a의 배열이 들어온 것이 아니라, a에 접근할 수 있는 즐겨찾기가 생기는 것.  \n",
    "          # => 얕은 복사 (해당되는 곳의 주소만 카피된 것)"
   ]
  },
  {
   "cell_type": "code",
   "execution_count": 86,
   "id": "c72d808d",
   "metadata": {},
   "outputs": [
    {
     "data": {
      "text/plain": [
       "1950217325184"
      ]
     },
     "execution_count": 86,
     "metadata": {},
     "output_type": "execute_result"
    }
   ],
   "source": [
    "id(a)     # id() -> a의 주소"
   ]
  },
  {
   "cell_type": "code",
   "execution_count": 87,
   "id": "b5cb5d92",
   "metadata": {},
   "outputs": [
    {
     "data": {
      "text/plain": [
       "1950217325184"
      ]
     },
     "execution_count": 87,
     "metadata": {},
     "output_type": "execute_result"
    }
   ],
   "source": [
    "id(b)    # b는 a의 즐겨찾기 겨격이기 때문에 주소가 동일"
   ]
  },
  {
   "cell_type": "code",
   "execution_count": 88,
   "id": "1cc1a6bc",
   "metadata": {},
   "outputs": [],
   "source": [
    "a = [1, 2, 3]"
   ]
  },
  {
   "cell_type": "code",
   "execution_count": 89,
   "id": "b982d9d8",
   "metadata": {},
   "outputs": [],
   "source": [
    "b = a[:]    # -> 처음부터 끝까지 value를 카피하겠다."
   ]
  },
  {
   "cell_type": "code",
   "execution_count": 90,
   "id": "743b2f61",
   "metadata": {},
   "outputs": [
    {
     "data": {
      "text/plain": [
       "1950215301696"
      ]
     },
     "execution_count": 90,
     "metadata": {},
     "output_type": "execute_result"
    }
   ],
   "source": [
    "id(a)"
   ]
  },
  {
   "cell_type": "code",
   "execution_count": 91,
   "id": "c1381337",
   "metadata": {},
   "outputs": [
    {
     "data": {
      "text/plain": [
       "1950215301248"
      ]
     },
     "execution_count": 91,
     "metadata": {},
     "output_type": "execute_result"
    }
   ],
   "source": [
    "id(b)"
   ]
  },
  {
   "cell_type": "code",
   "execution_count": 92,
   "id": "dd2f11af",
   "metadata": {},
   "outputs": [],
   "source": [
    "a[0] = 38"
   ]
  },
  {
   "cell_type": "code",
   "execution_count": 93,
   "id": "926c66b6",
   "metadata": {},
   "outputs": [
    {
     "data": {
      "text/plain": [
       "[1, 2, 3]"
      ]
     },
     "execution_count": 93,
     "metadata": {},
     "output_type": "execute_result"
    }
   ],
   "source": [
    "b"
   ]
  },
  {
   "cell_type": "code",
   "execution_count": 94,
   "id": "5b75274f",
   "metadata": {},
   "outputs": [],
   "source": [
    "import copy    # import = 모듈을 불러내는 기능, copy = 모듈"
   ]
  },
  {
   "cell_type": "code",
   "execution_count": 95,
   "id": "b50ec457",
   "metadata": {},
   "outputs": [],
   "source": [
    "a = [1, 2, 3]"
   ]
  },
  {
   "cell_type": "code",
   "execution_count": 96,
   "id": "5ef458b9",
   "metadata": {},
   "outputs": [],
   "source": [
    "b = copy.deepcopy(a) # = a[:]      # -> Deep Copy (깊은 복사)"
   ]
  },
  {
   "cell_type": "code",
   "execution_count": 97,
   "id": "59efd464",
   "metadata": {},
   "outputs": [],
   "source": [
    "a[0] = 38"
   ]
  },
  {
   "cell_type": "code",
   "execution_count": 98,
   "id": "6cbdcaa7",
   "metadata": {},
   "outputs": [
    {
     "data": {
      "text/plain": [
       "[1, 2, 3]"
      ]
     },
     "execution_count": 98,
     "metadata": {},
     "output_type": "execute_result"
    }
   ],
   "source": [
    "b"
   ]
  }
 ],
 "metadata": {
  "kernelspec": {
   "display_name": "Python 3",
   "language": "python",
   "name": "python3"
  },
  "language_info": {
   "codemirror_mode": {
    "name": "ipython",
    "version": 3
   },
   "file_extension": ".py",
   "mimetype": "text/x-python",
   "name": "python",
   "nbconvert_exporter": "python",
   "pygments_lexer": "ipython3",
   "version": "3.8.8"
  }
 },
 "nbformat": 4,
 "nbformat_minor": 5
}

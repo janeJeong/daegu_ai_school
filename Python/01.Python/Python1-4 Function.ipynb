{
 "cells": [
  {
   "cell_type": "markdown",
   "id": "6ccbb82a",
   "metadata": {},
   "source": [
    "# 함수 (Function)"
   ]
  },
  {
   "cell_type": "code",
   "execution_count": 5,
   "id": "130c872f",
   "metadata": {},
   "outputs": [],
   "source": [
    "def Times(a, b):\n",
    "    result = a * b\n",
    "    return result    # def = define, Times = 함수이름(임의), a, b = 넘겨받는 값(인자값, 파라메타)\n",
    "                     # return에는 수식 자체를 넣어도 되고, 따로 변수명을 설정해 넣어줘도 ok"
   ]
  },
  {
   "cell_type": "code",
   "execution_count": 6,
   "id": "b6d7c22d",
   "metadata": {},
   "outputs": [
    {
     "data": {
      "text/plain": [
       "200"
      ]
     },
     "execution_count": 6,
     "metadata": {},
     "output_type": "execute_result"
    }
   ],
   "source": [
    "# 함수 호출\n",
    "\n",
    "Times(10, 20)    "
   ]
  },
  {
   "cell_type": "code",
   "execution_count": 7,
   "id": "b77d3c8c",
   "metadata": {},
   "outputs": [
    {
     "data": {
      "text/plain": [
       "2363149144704"
      ]
     },
     "execution_count": 7,
     "metadata": {},
     "output_type": "execute_result"
    }
   ],
   "source": [
    "id(Times)      # -> Times 함수가 들어있는 메모리의 주소"
   ]
  },
  {
   "cell_type": "code",
   "execution_count": 8,
   "id": "6633b67f",
   "metadata": {},
   "outputs": [
    {
     "data": {
      "text/plain": [
       "{'__name__': '__main__',\n",
       " '__doc__': 'Automatically created module for IPython interactive environment',\n",
       " '__package__': None,\n",
       " '__loader__': None,\n",
       " '__spec__': None,\n",
       " '__builtin__': <module 'builtins' (built-in)>,\n",
       " '__builtins__': <module 'builtins' (built-in)>,\n",
       " '_ih': ['',\n",
       "  'def Times(a, b):\\n    return a * b    # def = define, Times = 함수이름(임의), a, b = 넘겨받는 값(인자값, 파라메타)',\n",
       "  '# 함수 호출\\n\\nTimes(10, 20)    ',\n",
       "  'id(Times)',\n",
       "  'globals()        # globals',\n",
       "  'def Times(a, b):\\n    result = a * b\\n    return result    # def = define, Times = 함수이름(임의), a, b = 넘겨받는 값(인자값, 파라메타)\\n                     # return에는 수식 자체를 넣어도 되고, 따로 변수명을 설정해 넣어줘도 ok',\n",
       "  '# 함수 호출\\n\\nTimes(10, 20)    ',\n",
       "  'id(Times)      # -> Times 함수가 들어있는 메모리의 주소',\n",
       "  'globals()        # globals -> 현재 실행중인 것 보여줌, 거의 쓸일 x'],\n",
       " '_oh': {2: 200, 3: 2363149144992, 4: {...}, 6: 200, 7: 2363149144704},\n",
       " '_dh': ['C:\\\\Users\\\\samsung\\\\Desktop\\\\AI-master\\\\AI-master\\\\HOL\\\\02.Python'],\n",
       " 'In': ['',\n",
       "  'def Times(a, b):\\n    return a * b    # def = define, Times = 함수이름(임의), a, b = 넘겨받는 값(인자값, 파라메타)',\n",
       "  '# 함수 호출\\n\\nTimes(10, 20)    ',\n",
       "  'id(Times)',\n",
       "  'globals()        # globals',\n",
       "  'def Times(a, b):\\n    result = a * b\\n    return result    # def = define, Times = 함수이름(임의), a, b = 넘겨받는 값(인자값, 파라메타)\\n                     # return에는 수식 자체를 넣어도 되고, 따로 변수명을 설정해 넣어줘도 ok',\n",
       "  '# 함수 호출\\n\\nTimes(10, 20)    ',\n",
       "  'id(Times)      # -> Times 함수가 들어있는 메모리의 주소',\n",
       "  'globals()        # globals -> 현재 실행중인 것 보여줌, 거의 쓸일 x'],\n",
       " 'Out': {2: 200, 3: 2363149144992, 4: {...}, 6: 200, 7: 2363149144704},\n",
       " 'get_ipython': <bound method InteractiveShell.get_ipython of <ipykernel.zmqshell.ZMQInteractiveShell object at 0x00000226369F47F0>>,\n",
       " 'exit': <IPython.core.autocall.ZMQExitAutocall at 0x22636a665e0>,\n",
       " 'quit': <IPython.core.autocall.ZMQExitAutocall at 0x22636a665e0>,\n",
       " '_': 2363149144704,\n",
       " '__': 200,\n",
       " '___': {...},\n",
       " '_i': 'id(Times)      # -> Times 함수가 들어있는 메모리의 주소',\n",
       " '_ii': '# 함수 호출\\n\\nTimes(10, 20)    ',\n",
       " '_iii': 'def Times(a, b):\\n    result = a * b\\n    return result    # def = define, Times = 함수이름(임의), a, b = 넘겨받는 값(인자값, 파라메타)\\n                     # return에는 수식 자체를 넣어도 되고, 따로 변수명을 설정해 넣어줘도 ok',\n",
       " '_i1': 'def Times(a, b):\\n    return a * b    # def = define, Times = 함수이름(임의), a, b = 넘겨받는 값(인자값, 파라메타)',\n",
       " 'Times': <function __main__.Times(a, b)>,\n",
       " '_i2': '# 함수 호출\\n\\nTimes(10, 20)    ',\n",
       " '_2': 200,\n",
       " '_i3': 'id(Times)',\n",
       " '_3': 2363149144992,\n",
       " '_i4': 'globals()        # globals',\n",
       " '_4': {...},\n",
       " '_i5': 'def Times(a, b):\\n    result = a * b\\n    return result    # def = define, Times = 함수이름(임의), a, b = 넘겨받는 값(인자값, 파라메타)\\n                     # return에는 수식 자체를 넣어도 되고, 따로 변수명을 설정해 넣어줘도 ok',\n",
       " '_i6': '# 함수 호출\\n\\nTimes(10, 20)    ',\n",
       " '_6': 200,\n",
       " '_i7': 'id(Times)      # -> Times 함수가 들어있는 메모리의 주소',\n",
       " '_7': 2363149144704,\n",
       " '_i8': 'globals()        # globals -> 현재 실행중인 것 보여줌, 거의 쓸일 x'}"
      ]
     },
     "execution_count": 8,
     "metadata": {},
     "output_type": "execute_result"
    }
   ],
   "source": [
    "globals()        # globals -> 현재 실행중인 것 보여줌, 거의 쓸일 x"
   ]
  },
  {
   "cell_type": "code",
   "execution_count": 9,
   "id": "5ed44fcd",
   "metadata": {},
   "outputs": [],
   "source": [
    "myTimes = Times   # -> 얕은 복사, 함수끼리도 복사 가능"
   ]
  },
  {
   "cell_type": "code",
   "execution_count": 10,
   "id": "a92a2be2",
   "metadata": {},
   "outputs": [
    {
     "data": {
      "text/plain": [
       "200"
      ]
     },
     "execution_count": 10,
     "metadata": {},
     "output_type": "execute_result"
    }
   ],
   "source": [
    "myTimes(10, 20)"
   ]
  },
  {
   "cell_type": "code",
   "execution_count": 12,
   "id": "c719f610",
   "metadata": {},
   "outputs": [
    {
     "data": {
      "text/plain": [
       "<module 'builtins' (built-in)>"
      ]
     },
     "execution_count": 12,
     "metadata": {},
     "output_type": "execute_result"
    }
   ],
   "source": [
    "__builtins__   # 파이썬에서 사용할 수 있는 명령들"
   ]
  },
  {
   "cell_type": "code",
   "execution_count": 13,
   "id": "46e8a0c6",
   "metadata": {},
   "outputs": [
    {
     "data": {
      "text/plain": [
       "['ArithmeticError',\n",
       " 'AssertionError',\n",
       " 'AttributeError',\n",
       " 'BaseException',\n",
       " 'BlockingIOError',\n",
       " 'BrokenPipeError',\n",
       " 'BufferError',\n",
       " 'BytesWarning',\n",
       " 'ChildProcessError',\n",
       " 'ConnectionAbortedError',\n",
       " 'ConnectionError',\n",
       " 'ConnectionRefusedError',\n",
       " 'ConnectionResetError',\n",
       " 'DeprecationWarning',\n",
       " 'EOFError',\n",
       " 'Ellipsis',\n",
       " 'EnvironmentError',\n",
       " 'Exception',\n",
       " 'False',\n",
       " 'FileExistsError',\n",
       " 'FileNotFoundError',\n",
       " 'FloatingPointError',\n",
       " 'FutureWarning',\n",
       " 'GeneratorExit',\n",
       " 'IOError',\n",
       " 'ImportError',\n",
       " 'ImportWarning',\n",
       " 'IndentationError',\n",
       " 'IndexError',\n",
       " 'InterruptedError',\n",
       " 'IsADirectoryError',\n",
       " 'KeyError',\n",
       " 'KeyboardInterrupt',\n",
       " 'LookupError',\n",
       " 'MemoryError',\n",
       " 'ModuleNotFoundError',\n",
       " 'NameError',\n",
       " 'None',\n",
       " 'NotADirectoryError',\n",
       " 'NotImplemented',\n",
       " 'NotImplementedError',\n",
       " 'OSError',\n",
       " 'OverflowError',\n",
       " 'PendingDeprecationWarning',\n",
       " 'PermissionError',\n",
       " 'ProcessLookupError',\n",
       " 'RecursionError',\n",
       " 'ReferenceError',\n",
       " 'ResourceWarning',\n",
       " 'RuntimeError',\n",
       " 'RuntimeWarning',\n",
       " 'StopAsyncIteration',\n",
       " 'StopIteration',\n",
       " 'SyntaxError',\n",
       " 'SyntaxWarning',\n",
       " 'SystemError',\n",
       " 'SystemExit',\n",
       " 'TabError',\n",
       " 'TimeoutError',\n",
       " 'True',\n",
       " 'TypeError',\n",
       " 'UnboundLocalError',\n",
       " 'UnicodeDecodeError',\n",
       " 'UnicodeEncodeError',\n",
       " 'UnicodeError',\n",
       " 'UnicodeTranslateError',\n",
       " 'UnicodeWarning',\n",
       " 'UserWarning',\n",
       " 'ValueError',\n",
       " 'Warning',\n",
       " 'WindowsError',\n",
       " 'ZeroDivisionError',\n",
       " '__IPYTHON__',\n",
       " '__build_class__',\n",
       " '__debug__',\n",
       " '__doc__',\n",
       " '__import__',\n",
       " '__loader__',\n",
       " '__name__',\n",
       " '__package__',\n",
       " '__spec__',\n",
       " 'abs',\n",
       " 'all',\n",
       " 'any',\n",
       " 'ascii',\n",
       " 'bin',\n",
       " 'bool',\n",
       " 'breakpoint',\n",
       " 'bytearray',\n",
       " 'bytes',\n",
       " 'callable',\n",
       " 'chr',\n",
       " 'classmethod',\n",
       " 'compile',\n",
       " 'complex',\n",
       " 'copyright',\n",
       " 'credits',\n",
       " 'delattr',\n",
       " 'dict',\n",
       " 'dir',\n",
       " 'display',\n",
       " 'divmod',\n",
       " 'enumerate',\n",
       " 'eval',\n",
       " 'exec',\n",
       " 'filter',\n",
       " 'float',\n",
       " 'format',\n",
       " 'frozenset',\n",
       " 'get_ipython',\n",
       " 'getattr',\n",
       " 'globals',\n",
       " 'hasattr',\n",
       " 'hash',\n",
       " 'help',\n",
       " 'hex',\n",
       " 'id',\n",
       " 'input',\n",
       " 'int',\n",
       " 'isinstance',\n",
       " 'issubclass',\n",
       " 'iter',\n",
       " 'len',\n",
       " 'license',\n",
       " 'list',\n",
       " 'locals',\n",
       " 'map',\n",
       " 'max',\n",
       " 'memoryview',\n",
       " 'min',\n",
       " 'next',\n",
       " 'object',\n",
       " 'oct',\n",
       " 'open',\n",
       " 'ord',\n",
       " 'pow',\n",
       " 'print',\n",
       " 'property',\n",
       " 'range',\n",
       " 'repr',\n",
       " 'reversed',\n",
       " 'round',\n",
       " 'set',\n",
       " 'setattr',\n",
       " 'slice',\n",
       " 'sorted',\n",
       " 'staticmethod',\n",
       " 'str',\n",
       " 'sum',\n",
       " 'super',\n",
       " 'tuple',\n",
       " 'type',\n",
       " 'vars',\n",
       " 'zip']"
      ]
     },
     "execution_count": 13,
     "metadata": {},
     "output_type": "execute_result"
    }
   ],
   "source": [
    "dir(__builtins__)    # 어떤 객체를 인자로 넣어주면 해당 객체가 어떤 변수와 메소드(method)를 가지고 있는지 나열"
   ]
  },
  {
   "cell_type": "code",
   "execution_count": 14,
   "id": "525db6e1",
   "metadata": {},
   "outputs": [],
   "source": [
    "x = [1, 2, 3]"
   ]
  },
  {
   "cell_type": "code",
   "execution_count": 15,
   "id": "d79fb66a",
   "metadata": {},
   "outputs": [
    {
     "data": {
      "text/plain": [
       "6"
      ]
     },
     "execution_count": 15,
     "metadata": {},
     "output_type": "execute_result"
    }
   ],
   "source": [
    "sum(x)"
   ]
  },
  {
   "cell_type": "code",
   "execution_count": 19,
   "id": "116d1172",
   "metadata": {},
   "outputs": [],
   "source": [
    "def setValue(newValue):\n",
    "    x = newValue   \n",
    "    return x"
   ]
  },
  {
   "cell_type": "code",
   "execution_count": 20,
   "id": "6c99fa7c",
   "metadata": {},
   "outputs": [],
   "source": [
    "retval = setValue(10)"
   ]
  },
  {
   "cell_type": "code",
   "execution_count": 21,
   "id": "b57e59b6",
   "metadata": {},
   "outputs": [
    {
     "name": "stdout",
     "output_type": "stream",
     "text": [
      "10\n"
     ]
    }
   ],
   "source": [
    "print(retval)      # return을 해주지 않아서 10이라는 숫자를 담기만 하고 출력은 하지 x것,\n",
    "                   # return이 없으면 돌기만 하다 끝, 꼭 필요!"
   ]
  },
  {
   "cell_type": "markdown",
   "id": "472dbfc2",
   "metadata": {},
   "source": [
    "## 인자 전달"
   ]
  },
  {
   "cell_type": "code",
   "execution_count": 22,
   "id": "2518e399",
   "metadata": {},
   "outputs": [],
   "source": [
    "a = 10"
   ]
  },
  {
   "cell_type": "code",
   "execution_count": 23,
   "id": "feecddb5",
   "metadata": {},
   "outputs": [],
   "source": [
    "b = 20"
   ]
  },
  {
   "cell_type": "code",
   "execution_count": 24,
   "id": "6572e9f7",
   "metadata": {},
   "outputs": [],
   "source": [
    "def sum1(x, y):\n",
    "    return x + y"
   ]
  },
  {
   "cell_type": "code",
   "execution_count": 25,
   "id": "b18165e6",
   "metadata": {},
   "outputs": [
    {
     "data": {
      "text/plain": [
       "30"
      ]
     },
     "execution_count": 25,
     "metadata": {},
     "output_type": "execute_result"
    }
   ],
   "source": [
    "sum1(a, b)"
   ]
  },
  {
   "cell_type": "markdown",
   "id": "fc6796d9",
   "metadata": {},
   "source": [
    "## 변수의 범위"
   ]
  },
  {
   "cell_type": "code",
   "execution_count": 26,
   "id": "d7ce9d5a",
   "metadata": {},
   "outputs": [],
   "source": [
    "g = 1    # -> (1)함수 밖의 g"
   ]
  },
  {
   "cell_type": "code",
   "execution_count": 30,
   "id": "b0b476de",
   "metadata": {},
   "outputs": [],
   "source": [
    "def testScope(a):\n",
    "    global g \n",
    "    g = 2       # -> (2)함수 안의 g / (4)global을 넣어주면 전체 범위의 g로 바꿔줌\n",
    "    return g + a"
   ]
  },
  {
   "cell_type": "code",
   "execution_count": 31,
   "id": "f5588d1c",
   "metadata": {},
   "outputs": [
    {
     "data": {
      "text/plain": [
       "3"
      ]
     },
     "execution_count": 31,
     "metadata": {},
     "output_type": "execute_result"
    }
   ],
   "source": [
    "testScope(1)"
   ]
  },
  {
   "cell_type": "code",
   "execution_count": 32,
   "id": "9107b5ca",
   "metadata": {},
   "outputs": [
    {
     "data": {
      "text/plain": [
       "2"
      ]
     },
     "execution_count": 32,
     "metadata": {},
     "output_type": "execute_result"
    }
   ],
   "source": [
    "g     # -> (3)함수 내에서 정의된 것들은 함수가 끝나면 소멸! 따라서 g = 1이 된 것!"
   ]
  },
  {
   "cell_type": "code",
   "execution_count": 37,
   "id": "aea20884",
   "metadata": {},
   "outputs": [],
   "source": [
    "def Time(a = 10, b = 20):    # 함수를 만들면서 파라메타에 미리 값을 줌 = 초기값(default value)\n",
    "    return a * b"
   ]
  },
  {
   "cell_type": "code",
   "execution_count": 38,
   "id": "ef1a0e4c",
   "metadata": {},
   "outputs": [
    {
     "data": {
      "text/plain": [
       "200"
      ]
     },
     "execution_count": 38,
     "metadata": {},
     "output_type": "execute_result"
    }
   ],
   "source": [
    "Time()     # -> 파라메타에 값을 따로 주지 않으면 초기값이 동작함."
   ]
  },
  {
   "cell_type": "code",
   "execution_count": 39,
   "id": "40f1e48d",
   "metadata": {},
   "outputs": [
    {
     "data": {
      "text/plain": [
       "100"
      ]
     },
     "execution_count": 39,
     "metadata": {},
     "output_type": "execute_result"
    }
   ],
   "source": [
    "Time(5)   # -> a의 값에 5가 들어간 것"
   ]
  },
  {
   "cell_type": "code",
   "execution_count": 46,
   "id": "76904fda",
   "metadata": {},
   "outputs": [],
   "source": [
    "def connectURI(server, port):\n",
    "    str = 'http://' + server + ':' + port\n",
    "    return str"
   ]
  },
  {
   "cell_type": "code",
   "execution_count": 47,
   "id": "d9d6fa94",
   "metadata": {},
   "outputs": [
    {
     "data": {
      "text/plain": [
       "'http://test.com:8080'"
      ]
     },
     "execution_count": 47,
     "metadata": {},
     "output_type": "execute_result"
    }
   ],
   "source": [
    "connectURI('test.com', '8080')"
   ]
  },
  {
   "cell_type": "code",
   "execution_count": 49,
   "id": "b93f9ba3",
   "metadata": {},
   "outputs": [
    {
     "data": {
      "text/plain": [
       "'http://test.com:8080'"
      ]
     },
     "execution_count": 49,
     "metadata": {},
     "output_type": "execute_result"
    }
   ],
   "source": [
    "connectURI(port = '8080', server = 'test.com')   # 파라메타 순서와 관계없이 콕콕 찝어서 지정해주면 괜찮"
   ]
  },
  {
   "cell_type": "markdown",
   "id": "43a5588a",
   "metadata": {},
   "source": [
    "## 가변인자 리스트"
   ]
  },
  {
   "cell_type": "code",
   "execution_count": 58,
   "id": "3f622393",
   "metadata": {},
   "outputs": [],
   "source": [
    "def test(**args):          # args -> 보통 arguments의 약자로 많이 씀.\n",
    "    print(args)           # * -> '길이가 가변적인 요소들을 받을 수 있다',  출력결과가 tuple 타입으로 나온다\n",
    "                          # ** -> 출력 결과가 dict 타입으로 나온다"
   ]
  },
  {
   "cell_type": "code",
   "execution_count": 59,
   "id": "d28e7acf",
   "metadata": {},
   "outputs": [
    {
     "name": "stdout",
     "output_type": "stream",
     "text": [
      "{'id': 1}\n"
     ]
    }
   ],
   "source": [
    "test(id = 1)  # -> 출력결과는 tuple type으로 나오고 있다, (1, ) -> 뒤에 하나 이상이 더 들어올 수 있다는 것을 보여준다."
   ]
  },
  {
   "cell_type": "code",
   "execution_count": 60,
   "id": "10e188dc",
   "metadata": {},
   "outputs": [
    {
     "ename": "TypeError",
     "evalue": "test() takes 0 positional arguments but 7 were given",
     "output_type": "error",
     "traceback": [
      "\u001b[1;31m---------------------------------------------------------------------------\u001b[0m",
      "\u001b[1;31mTypeError\u001b[0m                                 Traceback (most recent call last)",
      "\u001b[1;32m<ipython-input-60-f5744dba0fdb>\u001b[0m in \u001b[0;36m<module>\u001b[1;34m\u001b[0m\n\u001b[1;32m----> 1\u001b[1;33m \u001b[0mtest\u001b[0m\u001b[1;33m(\u001b[0m\u001b[1;36m1\u001b[0m\u001b[1;33m,\u001b[0m \u001b[1;36m2\u001b[0m\u001b[1;33m,\u001b[0m \u001b[1;36m3\u001b[0m\u001b[1;33m,\u001b[0m \u001b[1;36m4\u001b[0m\u001b[1;33m,\u001b[0m \u001b[1;36m5\u001b[0m\u001b[1;33m,\u001b[0m \u001b[1;36m6\u001b[0m\u001b[1;33m,\u001b[0m \u001b[1;36m7\u001b[0m\u001b[1;33m)\u001b[0m\u001b[1;33m\u001b[0m\u001b[1;33m\u001b[0m\u001b[0m\n\u001b[0m",
      "\u001b[1;31mTypeError\u001b[0m: test() takes 0 positional arguments but 7 were given"
     ]
    }
   ],
   "source": [
    "test(1, 2, 3, 4, 5, 6, 7)"
   ]
  },
  {
   "cell_type": "code",
   "execution_count": 62,
   "id": "8c27e018",
   "metadata": {},
   "outputs": [],
   "source": [
    "def userURIBuilder(server, port, **user):\n",
    "    str = 'http://' + server + ':' + port + '/?'      # 여기서 str은 변수\n",
    "    for key in user.keys():       # -> key값의 수만큼 반복\n",
    "        str += key + '=' + user[key] + '&'\n",
    "        \n",
    "    return str"
   ]
  },
  {
   "cell_type": "code",
   "execution_count": 65,
   "id": "be9fd439",
   "metadata": {},
   "outputs": [
    {
     "data": {
      "text/plain": [
       "'http://test.com:8080/?id=winkey&password=P@ssword&'"
      ]
     },
     "execution_count": 65,
     "metadata": {},
     "output_type": "execute_result"
    }
   ],
   "source": [
    "userURIBuilder('test.com', '8080', id = 'winkey', password = 'P@ssword') \n",
    "# -> 실제로 인터넷에서 ? 앞까지가 주소, 뒷부분이 파라메타 값, &는 값 구분  => get 방식으로 데이터를 주고받는 방식"
   ]
  },
  {
   "cell_type": "markdown",
   "id": "8212c15b",
   "metadata": {},
   "source": [
    "## 함수의 재귀적 호출"
   ]
  },
  {
   "cell_type": "code",
   "execution_count": 67,
   "id": "2a0a1d6a",
   "metadata": {},
   "outputs": [],
   "source": [
    "def factorial(x):\n",
    "    if x == 1:\n",
    "        return 1\n",
    "    return x * factorial(x - 1)    # 자기자신(factorial(x))을 계속해서 호출하는 것 = 재귀적 호출"
   ]
  },
  {
   "cell_type": "code",
   "execution_count": 68,
   "id": "31994828",
   "metadata": {},
   "outputs": [
    {
     "data": {
      "text/plain": [
       "1"
      ]
     },
     "execution_count": 68,
     "metadata": {},
     "output_type": "execute_result"
    }
   ],
   "source": [
    "factorial(1)"
   ]
  },
  {
   "cell_type": "code",
   "execution_count": 69,
   "id": "8ad5d6d9",
   "metadata": {},
   "outputs": [
    {
     "data": {
      "text/plain": [
       "2"
      ]
     },
     "execution_count": 69,
     "metadata": {},
     "output_type": "execute_result"
    }
   ],
   "source": [
    "factorial(2)"
   ]
  },
  {
   "cell_type": "code",
   "execution_count": 70,
   "id": "564e1103",
   "metadata": {},
   "outputs": [
    {
     "data": {
      "text/plain": [
       "24"
      ]
     },
     "execution_count": 70,
     "metadata": {},
     "output_type": "execute_result"
    }
   ],
   "source": [
    "factorial(4)"
   ]
  },
  {
   "cell_type": "code",
   "execution_count": 73,
   "id": "084cfd44",
   "metadata": {},
   "outputs": [],
   "source": [
    "def temp():\n",
    "    pass      # pass -> 아무런 실행이 되지 않고 그냥 패싱하는 것, 구조만 잡아두고 실행할 때 사용"
   ]
  },
  {
   "cell_type": "code",
   "execution_count": 74,
   "id": "1ad6a043",
   "metadata": {},
   "outputs": [],
   "source": [
    "temp()"
   ]
  },
  {
   "cell_type": "code",
   "execution_count": 75,
   "id": "48252a85",
   "metadata": {},
   "outputs": [
    {
     "name": "stdout",
     "output_type": "stream",
     "text": [
      "Help on built-in function print in module builtins:\n",
      "\n",
      "print(...)\n",
      "    print(value, ..., sep=' ', end='\\n', file=sys.stdout, flush=False)\n",
      "    \n",
      "    Prints the values to a stream, or to sys.stdout by default.\n",
      "    Optional keyword arguments:\n",
      "    file:  a file-like object (stream); defaults to the current sys.stdout.\n",
      "    sep:   string inserted between values, default a space.\n",
      "    end:   string appended after the last value, default a newline.\n",
      "    flush: whether to forcibly flush the stream.\n",
      "\n"
     ]
    }
   ],
   "source": [
    "help(print)   # help(해당 함수가 무슨 기능을 하는지 설명, 함수의 사용 방법)"
   ]
  },
  {
   "cell_type": "code",
   "execution_count": 76,
   "id": "599051ca",
   "metadata": {},
   "outputs": [],
   "source": [
    "def plus(a, b):\n",
    "    return a + b"
   ]
  },
  {
   "cell_type": "code",
   "execution_count": 77,
   "id": "f3674aff",
   "metadata": {},
   "outputs": [
    {
     "name": "stdout",
     "output_type": "stream",
     "text": [
      "Help on function plus in module __main__:\n",
      "\n",
      "plus(a, b)\n",
      "\n"
     ]
    }
   ],
   "source": [
    "help(plus)"
   ]
  },
  {
   "cell_type": "code",
   "execution_count": 78,
   "id": "a634e4c7",
   "metadata": {},
   "outputs": [],
   "source": [
    "def factorial(x):\n",
    "    \"\"\"Return the factorial of n, an exact integer >= 0\n",
    "    \"\"\"\n",
    "    \n",
    "    if x ==1 :\n",
    "        return 1\n",
    "    return x * factorial(x - 1)"
   ]
  },
  {
   "cell_type": "code",
   "execution_count": 79,
   "id": "cac7eeb1",
   "metadata": {},
   "outputs": [
    {
     "name": "stdout",
     "output_type": "stream",
     "text": [
      "Help on function factorial in module __main__:\n",
      "\n",
      "factorial(x)\n",
      "    Return the factorial of n, an exact integer >= 0\n",
      "\n"
     ]
    }
   ],
   "source": [
    "help(factorial)"
   ]
  },
  {
   "cell_type": "markdown",
   "id": "6a79a044",
   "metadata": {},
   "source": [
    "# 이터레이터 (iterator)"
   ]
  },
  {
   "cell_type": "code",
   "execution_count": 80,
   "id": "2ce5ed98",
   "metadata": {},
   "outputs": [
    {
     "name": "stdout",
     "output_type": "stream",
     "text": [
      "1\n",
      "2\n",
      "3\n"
     ]
    }
   ],
   "source": [
    "for element in [1, 2, 3]:     # for문의 경우에 리스트[1, 2, 3]개체의 구성요소 수만큼 반복한다.\n",
    "    print(element)"
   ]
  },
  {
   "cell_type": "code",
   "execution_count": 81,
   "id": "c9cc6dea",
   "metadata": {},
   "outputs": [
    {
     "name": "stdout",
     "output_type": "stream",
     "text": [
      "1\n",
      "2\n",
      "3\n"
     ]
    }
   ],
   "source": [
    "for element in (1, 2, 3):\n",
    "    print(element)"
   ]
  },
  {
   "cell_type": "code",
   "execution_count": 83,
   "id": "8356d475",
   "metadata": {},
   "outputs": [
    {
     "name": "stdout",
     "output_type": "stream",
     "text": [
      "one\n",
      "two\n"
     ]
    }
   ],
   "source": [
    "for key in {'one' : 1, 'two' : 2}:\n",
    "    print (key)"
   ]
  },
  {
   "cell_type": "code",
   "execution_count": 84,
   "id": "1461c3ac",
   "metadata": {},
   "outputs": [
    {
     "name": "stdout",
     "output_type": "stream",
     "text": [
      "A\n",
      "B\n",
      "C\n",
      "D\n",
      "E\n",
      "F\n",
      "G\n"
     ]
    }
   ],
   "source": [
    "for char in 'ABCDEFG':\n",
    "    print(char)"
   ]
  }
 ],
 "metadata": {
  "kernelspec": {
   "display_name": "Python 3",
   "language": "python",
   "name": "python3"
  },
  "language_info": {
   "codemirror_mode": {
    "name": "ipython",
    "version": 3
   },
   "file_extension": ".py",
   "mimetype": "text/x-python",
   "name": "python",
   "nbconvert_exporter": "python",
   "pygments_lexer": "ipython3",
   "version": "3.8.8"
  }
 },
 "nbformat": 4,
 "nbformat_minor": 5
}

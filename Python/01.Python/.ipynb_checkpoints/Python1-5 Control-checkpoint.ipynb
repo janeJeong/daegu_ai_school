{
 "cells": [
  {
   "cell_type": "markdown",
   "id": "1b53266d",
   "metadata": {},
   "source": [
    "# 제어문"
   ]
  },
  {
   "cell_type": "code",
   "execution_count": 1,
   "id": "87e4ca54",
   "metadata": {},
   "outputs": [],
   "source": [
    "value = 10"
   ]
  },
  {
   "cell_type": "code",
   "execution_count": 2,
   "id": "e93e73bf",
   "metadata": {},
   "outputs": [
    {
     "name": "stdout",
     "output_type": "stream",
     "text": [
      "value is bigger than 5\n"
     ]
    }
   ],
   "source": [
    "if value > 5:\n",
    "    print('value is bigger than 5')"
   ]
  },
  {
   "cell_type": "code",
   "execution_count": 3,
   "id": "b5693124",
   "metadata": {},
   "outputs": [],
   "source": [
    "money = 10"
   ]
  },
  {
   "cell_type": "code",
   "execution_count": 4,
   "id": "deee0b6c",
   "metadata": {},
   "outputs": [],
   "source": [
    "if money > 100:\n",
    "    item = 'apple'\n",
    "else:\n",
    "    item = 'banana'"
   ]
  },
  {
   "cell_type": "code",
   "execution_count": 5,
   "id": "d672489e",
   "metadata": {},
   "outputs": [
    {
     "data": {
      "text/plain": [
       "'banana'"
      ]
     },
     "execution_count": 5,
     "metadata": {},
     "output_type": "execute_result"
    }
   ],
   "source": [
    "item"
   ]
  },
  {
   "cell_type": "code",
   "execution_count": 6,
   "id": "987f482e",
   "metadata": {},
   "outputs": [
    {
     "name": "stdout",
     "output_type": "stream",
     "text": [
      "input score:69\n",
      "D\n"
     ]
    }
   ],
   "source": [
    "score = int(input(('input score:')))    # input의 출력 결과는 무조건 문자값\n",
    "\n",
    "if 90 <= score <= 100 :\n",
    "    grade = 'A'\n",
    "elif 80 <= score < 90 :\n",
    "    grade = 'B'\n",
    "elif 70 <= score < 80 :\n",
    "    grade = 'C'\n",
    "elif 60 <= score < 70 :\n",
    "    grade = 'D'\n",
    "else:\n",
    "    grade = 'F'\n",
    "\n",
    "print(grade)"
   ]
  },
  {
   "cell_type": "code",
   "execution_count": 7,
   "id": "09bcb602",
   "metadata": {},
   "outputs": [
    {
     "data": {
      "text/plain": [
       "'D'"
      ]
     },
     "execution_count": 7,
     "metadata": {},
     "output_type": "execute_result"
    }
   ],
   "source": [
    "grade"
   ]
  },
  {
   "cell_type": "markdown",
   "id": "97e0c1c5",
   "metadata": {},
   "source": [
    "# 조건식의 참과 거짓"
   ]
  },
  {
   "cell_type": "code",
   "execution_count": 1,
   "id": "36821cc8",
   "metadata": {},
   "outputs": [
    {
     "data": {
      "text/plain": [
       "True"
      ]
     },
     "execution_count": 1,
     "metadata": {},
     "output_type": "execute_result"
    }
   ],
   "source": [
    "bool(True)"
   ]
  },
  {
   "cell_type": "code",
   "execution_count": 2,
   "id": "c1a75879",
   "metadata": {},
   "outputs": [
    {
     "data": {
      "text/plain": [
       "False"
      ]
     },
     "execution_count": 2,
     "metadata": {},
     "output_type": "execute_result"
    }
   ],
   "source": [
    "bool(False)"
   ]
  },
  {
   "cell_type": "code",
   "execution_count": 3,
   "id": "a7851e1a",
   "metadata": {},
   "outputs": [
    {
     "data": {
      "text/plain": [
       "True"
      ]
     },
     "execution_count": 3,
     "metadata": {},
     "output_type": "execute_result"
    }
   ],
   "source": [
    "bool(13)"
   ]
  },
  {
   "cell_type": "code",
   "execution_count": 4,
   "id": "b93de5d8",
   "metadata": {},
   "outputs": [
    {
     "data": {
      "text/plain": [
       "False"
      ]
     },
     "execution_count": 4,
     "metadata": {},
     "output_type": "execute_result"
    }
   ],
   "source": [
    "bool(0)"
   ]
  },
  {
   "cell_type": "code",
   "execution_count": 5,
   "id": "71c81393",
   "metadata": {},
   "outputs": [
    {
     "data": {
      "text/plain": [
       "True"
      ]
     },
     "execution_count": 5,
     "metadata": {},
     "output_type": "execute_result"
    }
   ],
   "source": [
    "bool('Apple')   # bool 타입은 0제외 다 True"
   ]
  },
  {
   "cell_type": "code",
   "execution_count": 6,
   "id": "db34562a",
   "metadata": {},
   "outputs": [
    {
     "data": {
      "text/plain": [
       "False"
      ]
     },
     "execution_count": 6,
     "metadata": {},
     "output_type": "execute_result"
    }
   ],
   "source": [
    "bool('')    # 문자에 내용이 없는 경우는 false"
   ]
  },
  {
   "cell_type": "code",
   "execution_count": 7,
   "id": "bb70a3ea",
   "metadata": {},
   "outputs": [
    {
     "data": {
      "text/plain": [
       "False"
      ]
     },
     "execution_count": 7,
     "metadata": {},
     "output_type": "execute_result"
    }
   ],
   "source": [
    "bool(())"
   ]
  },
  {
   "cell_type": "markdown",
   "id": "a19d0748",
   "metadata": {},
   "source": [
    "# While"
   ]
  },
  {
   "cell_type": "code",
   "execution_count": 8,
   "id": "deab0b88",
   "metadata": {},
   "outputs": [],
   "source": [
    "# for문은 안에 있는 개체의 수만큼 반복,\n",
    "# while문은 조건이 만족할 때까지 계속해서 반복.\n",
    "\n",
    "value = 5"
   ]
  },
  {
   "cell_type": "code",
   "execution_count": 9,
   "id": "8cdbf987",
   "metadata": {},
   "outputs": [
    {
     "name": "stdout",
     "output_type": "stream",
     "text": [
      "5\n",
      "4\n",
      "3\n",
      "2\n",
      "1\n"
     ]
    }
   ],
   "source": [
    "while value > 0:\n",
    "    print(value)\n",
    "    value -= 1  # => value = value - 1   \n",
    "                # while 문에서는 '탈출할 수 있는 조건'을 꼭 걸어줘야함, 아니면 무한반복 한다."
   ]
  },
  {
   "cell_type": "code",
   "execution_count": 13,
   "id": "a9be383d",
   "metadata": {},
   "outputs": [
    {
     "name": "stdout",
     "output_type": "stream",
     "text": [
      "2 x 1 = 2\n",
      "2 x 2 = 4\n",
      "2 x 3 = 6\n",
      "2 x 4 = 8\n",
      "2 x 5 = 10\n",
      "2 x 6 = 12\n",
      "2 x 7 = 14\n",
      "2 x 8 = 16\n",
      "2 x 9 = 18\n"
     ]
    }
   ],
   "source": [
    "for i in [1, 2, 3, 4, 5, 6, 7, 8, 9]:\n",
    "    print('{0} x {1} = {2}'.format(2, i, 2 * i))  \n",
    "# {}(들어갈 자리)가 3개가 있으니, format에도 3개를 사용하면 된다(파라메터로)"
   ]
  },
  {
   "cell_type": "code",
   "execution_count": 11,
   "id": "8827f28c",
   "metadata": {},
   "outputs": [
    {
     "name": "stdout",
     "output_type": "stream",
     "text": [
      "10\n",
      "9\n",
      "8\n",
      "7\n",
      "6\n",
      "5\n",
      "4\n",
      "3\n",
      "2\n",
      "1\n",
      "0\n"
     ]
    }
   ],
   "source": [
    "a = 10\n",
    "while True:\n",
    "    print(a)\n",
    "    if a < 1:\n",
    "        break   # break -> 반복문이 더이상 돌지 않게 브레이크를 걸어줌\n",
    "        \n",
    "    a -= 1"
   ]
  },
  {
   "cell_type": "markdown",
   "id": "e9fce74d",
   "metadata": {},
   "source": [
    "## Break, continue 그리고 else"
   ]
  },
  {
   "cell_type": "code",
   "execution_count": 14,
   "id": "53d9c1f4",
   "metadata": {},
   "outputs": [],
   "source": [
    "L = [1, 2, 3, 4, 5, 6, 7, 8, 9, 10]   # -> 이렇게 리스트를 만드는 것 = 삽질^^"
   ]
  },
  {
   "cell_type": "code",
   "execution_count": 15,
   "id": "2929d3f0",
   "metadata": {},
   "outputs": [
    {
     "name": "stdout",
     "output_type": "stream",
     "text": [
      "Item: 1.\n",
      "Item: 2.\n",
      "Item: 3.\n",
      "Item: 4.\n",
      "Item: 5.\n"
     ]
    }
   ],
   "source": [
    "for i in L:\n",
    "    if i > 5:\n",
    "        break\n",
    "    print('Item: {0}.'.format(i))"
   ]
  },
  {
   "cell_type": "code",
   "execution_count": 16,
   "id": "e37de32c",
   "metadata": {},
   "outputs": [
    {
     "name": "stdout",
     "output_type": "stream",
     "text": [
      "Item: 1\n",
      "Item: 3\n",
      "Item: 5\n",
      "Item: 7\n",
      "Item: 9\n"
     ]
    }
   ],
   "source": [
    "for i in L:\n",
    "    if i % 2 == 0:    # -> i를 2로 나눈 나머지 = 0 이면 -> 짝수\n",
    "        continue      # 건너뛰고 반복을 수행\n",
    "    print('Item: {0}'.format(i))"
   ]
  },
  {
   "cell_type": "code",
   "execution_count": 18,
   "id": "273e5138",
   "metadata": {},
   "outputs": [
    {
     "data": {
      "text/plain": [
       "[0, 1, 2, 3, 4, 5, 6, 7, 8, 9]"
      ]
     },
     "execution_count": 18,
     "metadata": {},
     "output_type": "execute_result"
    }
   ],
   "source": [
    "list(range(10))"
   ]
  },
  {
   "cell_type": "code",
   "execution_count": 19,
   "id": "566d8ffd",
   "metadata": {},
   "outputs": [
    {
     "data": {
      "text/plain": [
       "[5, 6, 7, 8, 9]"
      ]
     },
     "execution_count": 19,
     "metadata": {},
     "output_type": "execute_result"
    }
   ],
   "source": [
    "list(range(5, 10))"
   ]
  },
  {
   "cell_type": "code",
   "execution_count": 20,
   "id": "6904be39",
   "metadata": {},
   "outputs": [
    {
     "data": {
      "text/plain": [
       "[1, 2, 3, 4, 5, 6, 7, 8, 9]"
      ]
     },
     "execution_count": 20,
     "metadata": {},
     "output_type": "execute_result"
    }
   ],
   "source": [
    "list(range(1, 10))"
   ]
  },
  {
   "cell_type": "code",
   "execution_count": 21,
   "id": "b92f8c54",
   "metadata": {},
   "outputs": [
    {
     "data": {
      "text/plain": [
       "[10, 9, 8, 7, 6, 5, 4, 3, 2]"
      ]
     },
     "execution_count": 21,
     "metadata": {},
     "output_type": "execute_result"
    }
   ],
   "source": [
    "list(range(10, 1, -1))  # 10에서 1까지 -1씩 증가한다."
   ]
  }
 ],
 "metadata": {
  "kernelspec": {
   "display_name": "Python 3",
   "language": "python",
   "name": "python3"
  },
  "language_info": {
   "codemirror_mode": {
    "name": "ipython",
    "version": 3
   },
   "file_extension": ".py",
   "mimetype": "text/x-python",
   "name": "python",
   "nbconvert_exporter": "python",
   "pygments_lexer": "ipython3",
   "version": "3.8.8"
  }
 },
 "nbformat": 4,
 "nbformat_minor": 5
}

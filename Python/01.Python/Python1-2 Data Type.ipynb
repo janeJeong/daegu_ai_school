{
 "cells": [
  {
   "cell_type": "code",
   "execution_count": 1,
   "id": "cd985f79",
   "metadata": {},
   "outputs": [
    {
     "name": "stdout",
     "output_type": "stream",
     "text": [
      "Hello World\n"
     ]
    }
   ],
   "source": [
    "print('Hello World')"
   ]
  },
  {
   "cell_type": "markdown",
   "id": "bbb59d26",
   "metadata": {},
   "source": [
    "# Python의 변수 규칙\n",
    "\n",
    "문자, 숫자, 밑줄 등을 포함할 수 있다.\n",
    "숫자는 제일 처음에 나올 수 없다."
   ]
  },
  {
   "cell_type": "code",
   "execution_count": 2,
   "id": "cccf1212",
   "metadata": {},
   "outputs": [],
   "source": [
    "a = 1"
   ]
  },
  {
   "cell_type": "code",
   "execution_count": 3,
   "id": "ed7ae409",
   "metadata": {},
   "outputs": [],
   "source": [
    "b = 2"
   ]
  },
  {
   "cell_type": "code",
   "execution_count": 4,
   "id": "df157d03",
   "metadata": {},
   "outputs": [
    {
     "ename": "SyntaxError",
     "evalue": "invalid syntax (<ipython-input-4-91ca527aa26e>, line 1)",
     "output_type": "error",
     "traceback": [
      "\u001b[1;36m  File \u001b[1;32m\"<ipython-input-4-91ca527aa26e>\"\u001b[1;36m, line \u001b[1;32m1\u001b[0m\n\u001b[1;33m    2a = 1\u001b[0m\n\u001b[1;37m     ^\u001b[0m\n\u001b[1;31mSyntaxError\u001b[0m\u001b[1;31m:\u001b[0m invalid syntax\n"
     ]
    }
   ],
   "source": [
    "2a = 1      # invalid syntax -> 문법상 오류 "
   ]
  },
  {
   "cell_type": "code",
   "execution_count": 5,
   "id": "4e2f8e4c",
   "metadata": {},
   "outputs": [],
   "source": [
    "a2 = 1 "
   ]
  },
  {
   "cell_type": "markdown",
   "id": "7305a870",
   "metadata": {},
   "source": [
    "## 대소문자를 구별합니다."
   ]
  },
  {
   "cell_type": "code",
   "execution_count": 7,
   "id": "8eacbbfa",
   "metadata": {},
   "outputs": [],
   "source": [
    "friend = 1"
   ]
  },
  {
   "cell_type": "code",
   "execution_count": 8,
   "id": "fc55b335",
   "metadata": {},
   "outputs": [],
   "source": [
    "Friend = 10"
   ]
  },
  {
   "cell_type": "code",
   "execution_count": 9,
   "id": "932e1ee3",
   "metadata": {},
   "outputs": [
    {
     "data": {
      "text/plain": [
       "1"
      ]
     },
     "execution_count": 9,
     "metadata": {},
     "output_type": "execute_result"
    }
   ],
   "source": [
    "friend"
   ]
  },
  {
   "cell_type": "code",
   "execution_count": 10,
   "id": "6c013178",
   "metadata": {},
   "outputs": [
    {
     "data": {
      "text/plain": [
       "10"
      ]
     },
     "execution_count": 10,
     "metadata": {},
     "output_type": "execute_result"
    }
   ],
   "source": [
    "Friend"
   ]
  },
  {
   "cell_type": "markdown",
   "id": "15079cd0",
   "metadata": {},
   "source": [
    "## 예약어(파이썬 내에서 기본적으로 등록되어있는 명령어)는 사용할 수 없다."
   ]
  },
  {
   "cell_type": "code",
   "execution_count": 11,
   "id": "f88de9a5",
   "metadata": {},
   "outputs": [
    {
     "ename": "SyntaxError",
     "evalue": "invalid syntax (<ipython-input-11-b26be1b49601>, line 1)",
     "output_type": "error",
     "traceback": [
      "\u001b[1;36m  File \u001b[1;32m\"<ipython-input-11-b26be1b49601>\"\u001b[1;36m, line \u001b[1;32m1\u001b[0m\n\u001b[1;33m    for = 1\u001b[0m\n\u001b[1;37m        ^\u001b[0m\n\u001b[1;31mSyntaxError\u001b[0m\u001b[1;31m:\u001b[0m invalid syntax\n"
     ]
    }
   ],
   "source": [
    "for = 1"
   ]
  },
  {
   "cell_type": "markdown",
   "id": "307c8919",
   "metadata": {},
   "source": [
    "## 숫자형"
   ]
  },
  {
   "cell_type": "code",
   "execution_count": 13,
   "id": "b77ef29a",
   "metadata": {},
   "outputs": [],
   "source": [
    "year = 2021   # -> 정수형 변수, 파이썬은 변수를 만들 때, 따로 타입을 설정하지 x"
   ]
  },
  {
   "cell_type": "code",
   "execution_count": 14,
   "id": "556ef619",
   "metadata": {},
   "outputs": [],
   "source": [
    "month = 6"
   ]
  },
  {
   "cell_type": "code",
   "execution_count": 15,
   "id": "0f0d91a0",
   "metadata": {},
   "outputs": [
    {
     "name": "stdout",
     "output_type": "stream",
     "text": [
      "2021 6\n"
     ]
    }
   ],
   "source": [
    "print(year, month)"
   ]
  },
  {
   "cell_type": "markdown",
   "id": "725dd271",
   "metadata": {},
   "source": [
    "## 정수앞에 0o를 붙이면 8진수, 0b를 붙이면 2진수 그리고 0x를 붙이면 16진수로 인식됩니다."
   ]
  },
  {
   "cell_type": "code",
   "execution_count": 16,
   "id": "c37bdd22",
   "metadata": {},
   "outputs": [
    {
     "data": {
      "text/plain": [
       "8"
      ]
     },
     "execution_count": 16,
     "metadata": {},
     "output_type": "execute_result"
    }
   ],
   "source": [
    "0o10"
   ]
  },
  {
   "cell_type": "code",
   "execution_count": 17,
   "id": "34e42222",
   "metadata": {},
   "outputs": [
    {
     "data": {
      "text/plain": [
       "2"
      ]
     },
     "execution_count": 17,
     "metadata": {},
     "output_type": "execute_result"
    }
   ],
   "source": [
    "0b10  # -> 00 = 0 , 01 = 1, 10 = 2 (2진수에서)"
   ]
  },
  {
   "cell_type": "code",
   "execution_count": 19,
   "id": "81f9b54a",
   "metadata": {},
   "outputs": [
    {
     "data": {
      "text/plain": [
       "16"
      ]
     },
     "execution_count": 19,
     "metadata": {},
     "output_type": "execute_result"
    }
   ],
   "source": [
    "0x10   # 코딩할 떄 진법은 거의 사용할 일이 없지만 진법이 꼭 필요한 경우가 있음."
   ]
  },
  {
   "cell_type": "markdown",
   "id": "ca0a4c13",
   "metadata": {},
   "source": [
    "## 다음은 10진수를 받아서 각 진수로 변환하는 방법입니다. 이때 결과는 문자형 입니다."
   ]
  },
  {
   "cell_type": "code",
   "execution_count": 20,
   "id": "2e4983d9",
   "metadata": {},
   "outputs": [
    {
     "data": {
      "text/plain": [
       "'0o46'"
      ]
     },
     "execution_count": 20,
     "metadata": {},
     "output_type": "execute_result"
    }
   ],
   "source": [
    "oct(38)  # -> oct는 정수형 매개값을 8진수로 변환하는 함수"
   ]
  },
  {
   "cell_type": "code",
   "execution_count": 21,
   "id": "9f0aa504",
   "metadata": {},
   "outputs": [
    {
     "data": {
      "text/plain": [
       "'0x26'"
      ]
     },
     "execution_count": 21,
     "metadata": {},
     "output_type": "execute_result"
    }
   ],
   "source": [
    "hex(38)  # -> hex는 정수형 매개값을 16진수로 변환하는 함수"
   ]
  },
  {
   "cell_type": "code",
   "execution_count": 23,
   "id": "c402f292",
   "metadata": {},
   "outputs": [
    {
     "data": {
      "text/plain": [
       "'0b100110'"
      ]
     },
     "execution_count": 23,
     "metadata": {},
     "output_type": "execute_result"
    }
   ],
   "source": [
    "bin(38)  # -> bin은                 2진수         + ''이 붙어 있으면 문자형!"
   ]
  },
  {
   "cell_type": "code",
   "execution_count": 26,
   "id": "24657219",
   "metadata": {},
   "outputs": [
    {
     "data": {
      "text/plain": [
       "'0o460o46'"
      ]
     },
     "execution_count": 26,
     "metadata": {},
     "output_type": "execute_result"
    }
   ],
   "source": [
    "oct(38) * 2  # -> 결과가 문자로 나옴, 문자열의 곱셈(문자를 그 수만큼 반복)이 된다."
   ]
  },
  {
   "cell_type": "markdown",
   "id": "ecaefcba",
   "metadata": {},
   "source": [
    "## 파이썬 2.x 버전에서는 큰 정수를 담기 위해서 별도의 long타입이 있었지만, 3.x 버전에서는 다 int형으로 통합되었습니다."
   ]
  },
  {
   "cell_type": "code",
   "execution_count": 28,
   "id": "0e60228b",
   "metadata": {},
   "outputs": [
    {
     "data": {
      "text/plain": [
       "int"
      ]
     },
     "execution_count": 28,
     "metadata": {},
     "output_type": "execute_result"
    }
   ],
   "source": [
    "type(1)  # int -> 정수형"
   ]
  },
  {
   "cell_type": "code",
   "execution_count": 30,
   "id": "0e3a224c",
   "metadata": {},
   "outputs": [
    {
     "data": {
      "text/plain": [
       "int"
      ]
     },
     "execution_count": 30,
     "metadata": {},
     "output_type": "execute_result"
    }
   ],
   "source": [
    "type(2 ** 8)  # ** -> 거듭제곱 , 큰 수도 int형으로 통합"
   ]
  },
  {
   "cell_type": "markdown",
   "id": "63339359",
   "metadata": {},
   "source": [
    "## 실수형은 float로 표현됩니다."
   ]
  },
  {
   "cell_type": "code",
   "execution_count": 32,
   "id": "c818abeb",
   "metadata": {},
   "outputs": [
    {
     "data": {
      "text/plain": [
       "float"
      ]
     },
     "execution_count": 32,
     "metadata": {},
     "output_type": "execute_result"
    }
   ],
   "source": [
    "type(3.14)"
   ]
  },
  {
   "cell_type": "code",
   "execution_count": 36,
   "id": "e82fea98",
   "metadata": {},
   "outputs": [
    {
     "data": {
      "text/plain": [
       "float"
      ]
     },
     "execution_count": 36,
     "metadata": {},
     "output_type": "execute_result"
    }
   ],
   "source": [
    "type(314e-2)   # ??"
   ]
  },
  {
   "cell_type": "markdown",
   "id": "69d64505",
   "metadata": {},
   "source": [
    "## 실수보다 조금 큰 복소수는 다음과 같이 표현됩니다."
   ]
  },
  {
   "cell_type": "code",
   "execution_count": 38,
   "id": "f6926f7e",
   "metadata": {},
   "outputs": [],
   "source": [
    "x = 3 - 4j   # -> 3은 실수부, 4j는 실수부, j때문에 복소수가 됨?"
   ]
  },
  {
   "cell_type": "code",
   "execution_count": 39,
   "id": "6e34f043",
   "metadata": {},
   "outputs": [
    {
     "data": {
      "text/plain": [
       "complex"
      ]
     },
     "execution_count": 39,
     "metadata": {},
     "output_type": "execute_result"
    }
   ],
   "source": [
    "type(x)"
   ]
  },
  {
   "cell_type": "markdown",
   "id": "97664910",
   "metadata": {},
   "source": [
    "## 복소수에서 real()은 실수부 그리고 imag()는 허수부를 conjugate()는 켤레 복소수를 나타냅니다."
   ]
  },
  {
   "cell_type": "code",
   "execution_count": 41,
   "id": "ae56699b",
   "metadata": {},
   "outputs": [
    {
     "data": {
      "text/plain": [
       "-4.0"
      ]
     },
     "execution_count": 41,
     "metadata": {},
     "output_type": "execute_result"
    }
   ],
   "source": [
    "x.imag"
   ]
  },
  {
   "cell_type": "code",
   "execution_count": 42,
   "id": "99d4d6e7",
   "metadata": {},
   "outputs": [
    {
     "data": {
      "text/plain": [
       "3.0"
      ]
     },
     "execution_count": 42,
     "metadata": {},
     "output_type": "execute_result"
    }
   ],
   "source": [
    "x.real"
   ]
  },
  {
   "cell_type": "code",
   "execution_count": 43,
   "id": "a796742b",
   "metadata": {},
   "outputs": [
    {
     "data": {
      "text/plain": [
       "(3+4j)"
      ]
     },
     "execution_count": 43,
     "metadata": {},
     "output_type": "execute_result"
    }
   ],
   "source": [
    "x.conjugate()"
   ]
  },
  {
   "cell_type": "markdown",
   "id": "6ebf8051",
   "metadata": {},
   "source": [
    "## 원의 넓이와 삼각형 넓이 구하기"
   ]
  },
  {
   "cell_type": "code",
   "execution_count": 44,
   "id": "6ffd0d6e",
   "metadata": {},
   "outputs": [],
   "source": [
    "r = 2"
   ]
  },
  {
   "cell_type": "code",
   "execution_count": 45,
   "id": "1952e2a7",
   "metadata": {},
   "outputs": [],
   "source": [
    "circle_area = 3.14 * (r ** 2)"
   ]
  },
  {
   "cell_type": "code",
   "execution_count": 46,
   "id": "950a8c61",
   "metadata": {},
   "outputs": [
    {
     "data": {
      "text/plain": [
       "12.56"
      ]
     },
     "execution_count": 46,
     "metadata": {},
     "output_type": "execute_result"
    }
   ],
   "source": [
    "circle_area"
   ]
  },
  {
   "cell_type": "code",
   "execution_count": 48,
   "id": "2b29130e",
   "metadata": {},
   "outputs": [
    {
     "name": "stdout",
     "output_type": "stream",
     "text": [
      "12.56\n"
     ]
    }
   ],
   "source": [
    "print(circle_area)   # 위의 방법 혹은 아래 방법 둘 다 가능, 후자 선호 but 전자는 파이썬 문법에서는 오류가 생긴다."
   ]
  },
  {
   "cell_type": "markdown",
   "id": "8d9b9f96",
   "metadata": {},
   "source": [
    "# 문자형 실습"
   ]
  },
  {
   "cell_type": "code",
   "execution_count": 49,
   "id": "cf65d250",
   "metadata": {},
   "outputs": [
    {
     "data": {
      "text/plain": [
       "'Hello Python'"
      ]
     },
     "execution_count": 49,
     "metadata": {},
     "output_type": "execute_result"
    }
   ],
   "source": [
    "'Hello Python'    # 문자형 타입은 string"
   ]
  },
  {
   "cell_type": "code",
   "execution_count": 50,
   "id": "624da81a",
   "metadata": {},
   "outputs": [
    {
     "data": {
      "text/plain": [
       "'Hello Python'"
      ]
     },
     "execution_count": 50,
     "metadata": {},
     "output_type": "execute_result"
    }
   ],
   "source": [
    "\"Hello Python\"   # 파이썬 내부에서는 ''나 \"\"나 똑같음"
   ]
  },
  {
   "cell_type": "code",
   "execution_count": 52,
   "id": "cf7cdb0d",
   "metadata": {},
   "outputs": [
    {
     "data": {
      "text/plain": [
       "\"Welcome to 'Python World'\""
      ]
     },
     "execution_count": 52,
     "metadata": {},
     "output_type": "execute_result"
    }
   ],
   "source": [
    "\"Welcome to 'Python World'\"  # 이 경우 외에는 특별히 구분하지 않아도 o"
   ]
  },
  {
   "cell_type": "code",
   "execution_count": 53,
   "id": "711b62e4",
   "metadata": {},
   "outputs": [
    {
     "name": "stdout",
     "output_type": "stream",
     "text": [
      "\n",
      "항상 태양을 바라보아라\n",
      "그리하면 너는 그림자를 볼 수 없을 것이다.\n",
      "\n",
      "= 헬렌켈러\n",
      "\n"
     ]
    }
   ],
   "source": [
    "print(\"\"\"\n",
    "항상 태양을 바라보아라\n",
    "그리하면 너는 그림자를 볼 수 없을 것이다.\n",
    "\n",
    "= 헬렌켈러\n",
    "\"\"\")"
   ]
  },
  {
   "cell_type": "code",
   "execution_count": 57,
   "id": "d9bdd449",
   "metadata": {},
   "outputs": [
    {
     "name": "stdout",
     "output_type": "stream",
     "text": [
      "\t탭\n",
      "다음줄\n"
     ]
    }
   ],
   "source": [
    "print('\\t탭\\n다음줄')  # 역슬레쉬가 들어가면 예약되어 있는 특수문자를 나타냄(t = 탭, n = new line)"
   ]
  },
  {
   "cell_type": "code",
   "execution_count": 59,
   "id": "bdb34e70",
   "metadata": {},
   "outputs": [
    {
     "name": "stdout",
     "output_type": "stream",
     "text": [
      "\\t탭\\n다음줄\n"
     ]
    }
   ],
   "source": [
    "print(r'\\t탭\\n다음줄')  # 앞에 r을 넣어주면 작성된 문자 그대로 출력"
   ]
  },
  {
   "cell_type": "code",
   "execution_count": 61,
   "id": "08759485",
   "metadata": {},
   "outputs": [
    {
     "data": {
      "text/plain": [
       "'python'"
      ]
     },
     "execution_count": 61,
     "metadata": {},
     "output_type": "execute_result"
    }
   ],
   "source": [
    "'py''thon'  # 다른 언어에서는 작동x"
   ]
  },
  {
   "cell_type": "code",
   "execution_count": 63,
   "id": "f9b2d151",
   "metadata": {},
   "outputs": [
    {
     "data": {
      "text/plain": [
       "'python'"
      ]
     },
     "execution_count": 63,
     "metadata": {},
     "output_type": "execute_result"
    }
   ],
   "source": [
    "'py' + 'thon'  # 위의 결과와 동일 (내부적 작동)"
   ]
  },
  {
   "cell_type": "code",
   "execution_count": 65,
   "id": "88d534a1",
   "metadata": {},
   "outputs": [
    {
     "data": {
      "text/plain": [
       "'pypypy'"
      ]
     },
     "execution_count": 65,
     "metadata": {},
     "output_type": "execute_result"
    }
   ],
   "source": [
    "'py' * 3   # 다른 언어에서는 error남"
   ]
  },
  {
   "cell_type": "markdown",
   "id": "6f07c16e",
   "metadata": {},
   "source": [
    "## 파이썬에서 문자열은 자동으로 인덱싱(indexing)이 됩니다."
   ]
  },
  {
   "cell_type": "code",
   "execution_count": 66,
   "id": "404fc604",
   "metadata": {},
   "outputs": [],
   "source": [
    " a = 'python'"
   ]
  },
  {
   "cell_type": "code",
   "execution_count": 67,
   "id": "555d829f",
   "metadata": {},
   "outputs": [
    {
     "data": {
      "text/plain": [
       "'python'"
      ]
     },
     "execution_count": 67,
     "metadata": {},
     "output_type": "execute_result"
    }
   ],
   "source": [
    "a"
   ]
  },
  {
   "cell_type": "code",
   "execution_count": 68,
   "id": "685acacd",
   "metadata": {},
   "outputs": [
    {
     "data": {
      "text/plain": [
       "'p'"
      ]
     },
     "execution_count": 68,
     "metadata": {},
     "output_type": "execute_result"
    }
   ],
   "source": [
    "a[0]"
   ]
  },
  {
   "cell_type": "code",
   "execution_count": 71,
   "id": "ebfce4ff",
   "metadata": {},
   "outputs": [
    {
     "ename": "TypeError",
     "evalue": "'str' object does not support item assignment",
     "output_type": "error",
     "traceback": [
      "\u001b[1;31m---------------------------------------------------------------------------\u001b[0m",
      "\u001b[1;31mTypeError\u001b[0m                                 Traceback (most recent call last)",
      "\u001b[1;32m<ipython-input-71-398d951d8e6c>\u001b[0m in \u001b[0;36m<module>\u001b[1;34m\u001b[0m\n\u001b[1;32m----> 1\u001b[1;33m \u001b[0ma\u001b[0m\u001b[1;33m[\u001b[0m\u001b[1;36m0\u001b[0m\u001b[1;33m]\u001b[0m \u001b[1;33m=\u001b[0m \u001b[1;34m'a'\u001b[0m  \u001b[1;31m# 문자열의 배열은 read only! 다른 값으로 바꿀 수는 없음!\u001b[0m\u001b[1;33m\u001b[0m\u001b[1;33m\u001b[0m\u001b[0m\n\u001b[0m",
      "\u001b[1;31mTypeError\u001b[0m: 'str' object does not support item assignment"
     ]
    }
   ],
   "source": [
    "a[0] = 'a'  # 문자열의 배열은 read only! 다른 값으로 바꿀 수는 없음!"
   ]
  },
  {
   "cell_type": "markdown",
   "id": "6b16159a",
   "metadata": {},
   "source": [
    "## 범위를 설정할 수도 있습니다. [시작위치:끝위치]"
   ]
  },
  {
   "cell_type": "code",
   "execution_count": 73,
   "id": "9db437b6",
   "metadata": {},
   "outputs": [
    {
     "data": {
      "text/plain": [
       "'p'"
      ]
     },
     "execution_count": 73,
     "metadata": {},
     "output_type": "execute_result"
    }
   ],
   "source": [
    "a[0:1]  # 0부터 시작해서 1사이에 있는 것"
   ]
  },
  {
   "cell_type": "code",
   "execution_count": 74,
   "id": "d1d459fe",
   "metadata": {},
   "outputs": [
    {
     "data": {
      "text/plain": [
       "'yth'"
      ]
     },
     "execution_count": 74,
     "metadata": {},
     "output_type": "execute_result"
    }
   ],
   "source": [
    "a[1:4]"
   ]
  },
  {
   "cell_type": "code",
   "execution_count": 75,
   "id": "c6be39fb",
   "metadata": {},
   "outputs": [
    {
     "data": {
      "text/plain": [
       "'py'"
      ]
     },
     "execution_count": 75,
     "metadata": {},
     "output_type": "execute_result"
    }
   ],
   "source": [
    "a[:2]  # -> 처음부터 2 사이"
   ]
  },
  {
   "cell_type": "code",
   "execution_count": 77,
   "id": "06236c4d",
   "metadata": {},
   "outputs": [
    {
     "data": {
      "text/plain": [
       "'on'"
      ]
     },
     "execution_count": 77,
     "metadata": {},
     "output_type": "execute_result"
    }
   ],
   "source": [
    "a[-2:]  # -> -2부터 끝까지"
   ]
  },
  {
   "cell_type": "code",
   "execution_count": 78,
   "id": "0122111f",
   "metadata": {},
   "outputs": [
    {
     "data": {
      "text/plain": [
       "'python'"
      ]
     },
     "execution_count": 78,
     "metadata": {},
     "output_type": "execute_result"
    }
   ],
   "source": [
    "a[:]"
   ]
  },
  {
   "cell_type": "code",
   "execution_count": 79,
   "id": "27cb48b4",
   "metadata": {},
   "outputs": [
    {
     "data": {
      "text/plain": [
       "'pto'"
      ]
     },
     "execution_count": 79,
     "metadata": {},
     "output_type": "execute_result"
    }
   ],
   "source": [
    "a[::2]  # index의 증가값이 2"
   ]
  },
  {
   "cell_type": "markdown",
   "id": "7a570872",
   "metadata": {},
   "source": [
    "## 데이터 타입의 변환"
   ]
  },
  {
   "cell_type": "code",
   "execution_count": 81,
   "id": "b18d279e",
   "metadata": {},
   "outputs": [
    {
     "data": {
      "text/plain": [
       "'3.14'"
      ]
     },
     "execution_count": 81,
     "metadata": {},
     "output_type": "execute_result"
    }
   ],
   "source": [
    "str(3.14)  # 숫자 -> 문자"
   ]
  },
  {
   "cell_type": "code",
   "execution_count": 83,
   "id": "71b33692",
   "metadata": {},
   "outputs": [
    {
     "data": {
      "text/plain": [
       "49"
      ]
     },
     "execution_count": 83,
     "metadata": {},
     "output_type": "execute_result"
    }
   ],
   "source": [
    "int('49')  # 문자 -> 숫자"
   ]
  },
  {
   "cell_type": "code",
   "execution_count": 85,
   "id": "a2a740c0",
   "metadata": {},
   "outputs": [
    {
     "data": {
      "text/plain": [
       "23.0"
      ]
     },
     "execution_count": 85,
     "metadata": {},
     "output_type": "execute_result"
    }
   ],
   "source": [
    "float(23)  # 정수 -> 실수"
   ]
  },
  {
   "cell_type": "code",
   "execution_count": 88,
   "id": "38161d16",
   "metadata": {},
   "outputs": [
    {
     "data": {
      "text/plain": [
       "str"
      ]
     },
     "execution_count": 88,
     "metadata": {},
     "output_type": "execute_result"
    }
   ],
   "source": [
    "type('가')"
   ]
  }
 ],
 "metadata": {
  "kernelspec": {
   "display_name": "Python 3",
   "language": "python",
   "name": "python3"
  },
  "language_info": {
   "codemirror_mode": {
    "name": "ipython",
    "version": 3
   },
   "file_extension": ".py",
   "mimetype": "text/x-python",
   "name": "python",
   "nbconvert_exporter": "python",
   "pygments_lexer": "ipython3",
   "version": "3.8.8"
  }
 },
 "nbformat": 4,
 "nbformat_minor": 5
}

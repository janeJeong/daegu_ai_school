{
 "cells": [
  {
   "cell_type": "markdown",
   "id": "a7463c3d",
   "metadata": {},
   "source": [
    "# Class의 사용법"
   ]
  },
  {
   "cell_type": "code",
   "execution_count": 1,
   "id": "7ff17123",
   "metadata": {},
   "outputs": [],
   "source": [
    "# \"\"\"\n",
    "# 반복적인 기능의 집합 = function()  --> 보다 확장된 개념 Class\n",
    "# function()  ---> 하나의 '기능'\n",
    "# Class  ---> 하나의 '객체(Object)'를 만든다 ex) 인간, 꽃, 말  => Orient Oriented Programming(OOP), 객체지향형 프로그래밍\n",
    "# Class\n",
    "#     기능(행동)Method   : 함수() --> 말.달린다() 말.먹는다() 말.잔다()\n",
    "#     속성      Property : 변수   --> 말.이름 말.나이 말.색깔\n",
    "# \"\"\""
   ]
  },
  {
   "cell_type": "code",
   "execution_count": 2,
   "id": "944d66a6",
   "metadata": {},
   "outputs": [],
   "source": [
    "class Person :\n",
    "    \n",
    "    # 속성\n",
    "    Name = 'Default Name'\n",
    "    \n",
    "    # 행동\n",
    "    def Print(self) :\n",
    "        print('My name is {0}'.format(self.Name))"
   ]
  },
  {
   "cell_type": "code",
   "execution_count": 3,
   "id": "721fe2fa",
   "metadata": {},
   "outputs": [],
   "source": [
    "p1 = Person()    # -> 찍혀져 나온 것 = instance (instance화 시킨다.)"
   ]
  },
  {
   "cell_type": "code",
   "execution_count": 4,
   "id": "a58b3686",
   "metadata": {},
   "outputs": [
    {
     "name": "stdout",
     "output_type": "stream",
     "text": [
      "My name is Default Name\n"
     ]
    }
   ],
   "source": [
    "p1.Print()"
   ]
  },
  {
   "cell_type": "code",
   "execution_count": 5,
   "id": "fc8fbe74",
   "metadata": {},
   "outputs": [],
   "source": [
    "p2 = Person()"
   ]
  },
  {
   "cell_type": "code",
   "execution_count": 6,
   "id": "28d7664d",
   "metadata": {},
   "outputs": [],
   "source": [
    "p1.Name = '전지현'"
   ]
  },
  {
   "cell_type": "code",
   "execution_count": 7,
   "id": "f0fe798a",
   "metadata": {},
   "outputs": [],
   "source": [
    "p2.Name = '정일우'"
   ]
  },
  {
   "cell_type": "code",
   "execution_count": 8,
   "id": "3cf93177",
   "metadata": {},
   "outputs": [
    {
     "name": "stdout",
     "output_type": "stream",
     "text": [
      "My name is 전지현\n"
     ]
    }
   ],
   "source": [
    "p1.Print()"
   ]
  },
  {
   "cell_type": "code",
   "execution_count": 9,
   "id": "b8bc20d7",
   "metadata": {},
   "outputs": [
    {
     "name": "stdout",
     "output_type": "stream",
     "text": [
      "My name is 정일우\n"
     ]
    }
   ],
   "source": [
    "p2.Print()        "
   ]
  },
  {
   "cell_type": "code",
   "execution_count": 10,
   "id": "6ea77fdc",
   "metadata": {},
   "outputs": [],
   "source": [
    " # 일반적인 언어에서는 class를 정하고 나면 중간에 class를 바꾸는 것이 불가능, but 파이썬은 가능\n",
    "    \n",
    "Person.title = 'New title'   # -> 없는 속성을 class에다가 주면, 새로운 속성이 추가가됨.\n",
    "                             # 아래 인스턴스들에게도 다 부여?됨"
   ]
  },
  {
   "cell_type": "code",
   "execution_count": 11,
   "id": "aa91bec4",
   "metadata": {},
   "outputs": [
    {
     "data": {
      "text/plain": [
       "'New title'"
      ]
     },
     "execution_count": 11,
     "metadata": {},
     "output_type": "execute_result"
    }
   ],
   "source": [
    "p1.title"
   ]
  },
  {
   "cell_type": "code",
   "execution_count": 13,
   "id": "19756be9",
   "metadata": {},
   "outputs": [],
   "source": [
    "p1.age = 20     # p1에만 age속성이 들어가 있는 것"
   ]
  },
  {
   "cell_type": "code",
   "execution_count": 14,
   "id": "e435de9d",
   "metadata": {},
   "outputs": [
    {
     "data": {
      "text/plain": [
       "20"
      ]
     },
     "execution_count": 14,
     "metadata": {},
     "output_type": "execute_result"
    }
   ],
   "source": [
    "p1.age"
   ]
  },
  {
   "cell_type": "code",
   "execution_count": 15,
   "id": "3064fe36",
   "metadata": {},
   "outputs": [
    {
     "ename": "AttributeError",
     "evalue": "'Person' object has no attribute 'age'",
     "output_type": "error",
     "traceback": [
      "\u001b[1;31m---------------------------------------------------------------------------\u001b[0m",
      "\u001b[1;31mAttributeError\u001b[0m                            Traceback (most recent call last)",
      "\u001b[1;32m<ipython-input-15-df2090e07939>\u001b[0m in \u001b[0;36m<module>\u001b[1;34m\u001b[0m\n\u001b[1;32m----> 1\u001b[1;33m \u001b[0mp2\u001b[0m\u001b[1;33m.\u001b[0m\u001b[0mage\u001b[0m\u001b[1;33m\u001b[0m\u001b[1;33m\u001b[0m\u001b[0m\n\u001b[0m",
      "\u001b[1;31mAttributeError\u001b[0m: 'Person' object has no attribute 'age'"
     ]
    }
   ],
   "source": [
    "p2.age"
   ]
  },
  {
   "cell_type": "markdown",
   "id": "e3faab83",
   "metadata": {},
   "source": [
    "# 클래스의 상속"
   ]
  },
  {
   "cell_type": "code",
   "execution_count": 16,
   "id": "ce1bf328",
   "metadata": {},
   "outputs": [],
   "source": [
    "class Person :\n",
    "    pass"
   ]
  },
  {
   "cell_type": "code",
   "execution_count": 18,
   "id": "81fbe0df",
   "metadata": {},
   "outputs": [],
   "source": [
    "class Bird :\n",
    "    pass"
   ]
  },
  {
   "cell_type": "code",
   "execution_count": 19,
   "id": "262a4baa",
   "metadata": {},
   "outputs": [],
   "source": [
    "class Student(Person):  # -> \"Student는 Person을 상속 받았다\"\n",
    "    pass"
   ]
  },
  {
   "cell_type": "code",
   "execution_count": 20,
   "id": "845b3fb0",
   "metadata": {},
   "outputs": [],
   "source": [
    "p = Person()\n",
    "s = Student()"
   ]
  },
  {
   "cell_type": "code",
   "execution_count": 21,
   "id": "baac1f7b",
   "metadata": {},
   "outputs": [
    {
     "data": {
      "text/plain": [
       "True"
      ]
     },
     "execution_count": 21,
     "metadata": {},
     "output_type": "execute_result"
    }
   ],
   "source": [
    "isinstance(p, Person)   # isinstance() - p가 Person에서 나온 것이 맞느냐?"
   ]
  },
  {
   "cell_type": "code",
   "execution_count": 22,
   "id": "0517289c",
   "metadata": {},
   "outputs": [
    {
     "data": {
      "text/plain": [
       "True"
      ]
     },
     "execution_count": 22,
     "metadata": {},
     "output_type": "execute_result"
    }
   ],
   "source": [
    "isinstance(s, Student)"
   ]
  },
  {
   "cell_type": "code",
   "execution_count": 24,
   "id": "4d329881",
   "metadata": {},
   "outputs": [
    {
     "data": {
      "text/plain": [
       "True"
      ]
     },
     "execution_count": 24,
     "metadata": {},
     "output_type": "execute_result"
    }
   ],
   "source": [
    "isinstance(p, object)     # object는 모든 객체의 부모, 따라서 어떤 객체와 비교를 해도 true가 나온다"
   ]
  },
  {
   "cell_type": "code",
   "execution_count": 25,
   "id": "f86a24a5",
   "metadata": {},
   "outputs": [
    {
     "data": {
      "text/plain": [
       "False"
      ]
     },
     "execution_count": 25,
     "metadata": {},
     "output_type": "execute_result"
    }
   ],
   "source": [
    "isinstance(p, Bird)"
   ]
  },
  {
   "cell_type": "code",
   "execution_count": 27,
   "id": "cfce9939",
   "metadata": {},
   "outputs": [
    {
     "data": {
      "text/plain": [
       "True"
      ]
     },
     "execution_count": 27,
     "metadata": {},
     "output_type": "execute_result"
    }
   ],
   "source": [
    "isinstance(int, object)"
   ]
  },
  {
   "cell_type": "markdown",
   "id": "1b48ac00",
   "metadata": {},
   "source": [
    "## 생성자 소멸자 메소드"
   ]
  },
  {
   "cell_type": "code",
   "execution_count": 56,
   "id": "7c13ae25",
   "metadata": {},
   "outputs": [],
   "source": [
    "class MyClass :\n",
    "    # 생성자               # -> constructer, 새로 메모리상에 인스턴스를 만들어냄\n",
    "    def __init__(self, value) :\n",
    "        self.Value = value\n",
    "        print('Class is Created Value = ', value)\n",
    "        \n",
    "    def __init__(self, name, age) :    # -> 생성자를 하나 이상 만들 수 있지만 호출하는 값(파라메타)이 달라야함. \n",
    "        self.Name = name\n",
    "        self.Age = age\n",
    "        print('닝겐의 이름은 {0}이고 나이는 {1}'.format(self.Name, self.Age))\n",
    "        \n",
    "    # 소멸자       # -> 소멸할때는 파라메타를 줄 수 없기 때문에, 소멸자는 하나만 가질 수 있다.\n",
    "    def __del__(self) :\n",
    "        print('Class is deleted')    \n",
    "        \n",
    "# self - 자기 스스로를 의미, MyClass라고 하는 class안에 소속되어 있는 메소드 라는 것을 의미"
   ]
  },
  {
   "cell_type": "code",
   "execution_count": 57,
   "id": "bc529a8c",
   "metadata": {},
   "outputs": [
    {
     "name": "stdout",
     "output_type": "stream",
     "text": [
      "닝겐의 이름은 정일우이고 나이는 33\n"
     ]
    }
   ],
   "source": [
    "p1 = MyClass('정일우', 33)"
   ]
  },
  {
   "cell_type": "code",
   "execution_count": null,
   "id": "73bb04d2",
   "metadata": {},
   "outputs": [],
   "source": []
  },
  {
   "cell_type": "code",
   "execution_count": 42,
   "id": "1fddbc8b",
   "metadata": {},
   "outputs": [
    {
     "name": "stdout",
     "output_type": "stream",
     "text": [
      "Class is Created Value =  10\n"
     ]
    }
   ],
   "source": [
    "m = MyClass(10)    # -> 생성자 호출, 10이 위의 value에 전달됨. (인스턴스 생성과정, 생성과 동시에 실행됨)"
   ]
  },
  {
   "cell_type": "code",
   "execution_count": 43,
   "id": "7a6303f4",
   "metadata": {},
   "outputs": [
    {
     "name": "stdout",
     "output_type": "stream",
     "text": [
      "Class is deleted\n"
     ]
    }
   ],
   "source": [
    "del m   # -> 만든 인스턴스가 메모리에서 삭제됨"
   ]
  },
  {
   "cell_type": "code",
   "execution_count": 47,
   "id": "7449ca29",
   "metadata": {},
   "outputs": [],
   "source": [
    "class CounterManager :\n",
    "    insCount = 0\n",
    "    \n",
    "    def __init__(self) :\n",
    "        CounterManager.insCount += 1\n",
    "    def printInstanceCount() :\n",
    "        print('Instance Count:', CounterManager.insCount)"
   ]
  },
  {
   "cell_type": "code",
   "execution_count": 48,
   "id": "3b24ad75",
   "metadata": {},
   "outputs": [],
   "source": [
    "p = CounterManager()"
   ]
  },
  {
   "cell_type": "code",
   "execution_count": 49,
   "id": "29e48f79",
   "metadata": {},
   "outputs": [
    {
     "ename": "TypeError",
     "evalue": "printInstanceCount() takes 0 positional arguments but 1 was given",
     "output_type": "error",
     "traceback": [
      "\u001b[1;31m---------------------------------------------------------------------------\u001b[0m",
      "\u001b[1;31mTypeError\u001b[0m                                 Traceback (most recent call last)",
      "\u001b[1;32m<ipython-input-49-7dcdc547c7c7>\u001b[0m in \u001b[0;36m<module>\u001b[1;34m\u001b[0m\n\u001b[1;32m----> 1\u001b[1;33m \u001b[0mp\u001b[0m\u001b[1;33m.\u001b[0m\u001b[0mprintInstanceCount\u001b[0m\u001b[1;33m(\u001b[0m\u001b[1;33m)\u001b[0m\u001b[1;33m\u001b[0m\u001b[1;33m\u001b[0m\u001b[0m\n\u001b[0m",
      "\u001b[1;31mTypeError\u001b[0m: printInstanceCount() takes 0 positional arguments but 1 was given"
     ]
    }
   ],
   "source": [
    "p.printInstanceCount()"
   ]
  },
  {
   "cell_type": "code",
   "execution_count": 65,
   "id": "1f1764a9",
   "metadata": {},
   "outputs": [],
   "source": [
    "class CounterManager :\n",
    "    insCount = 0\n",
    "    \n",
    "    def __init__(self) :\n",
    "        CounterManager.insCount += 1\n",
    "    def staticPrintCount() :\n",
    "        print('Instance Count:', CounterManager.insCount)\n",
    "        \n",
    "    SPrintCount = staticmethod(staticPrintCount)# -> 정적 메소드로 바꿔줌\n",
    "                                                # 장점 - 인스턴스가 몇 개든 정적 메소드를 호출하면 접근이 다 가능\n",
    "                                                # 단점 - 계속 메모리에 남아 있음(불필요하게 메모리 차지)"
   ]
  },
  {
   "cell_type": "code",
   "execution_count": 66,
   "id": "982b6cd0",
   "metadata": {},
   "outputs": [
    {
     "name": "stdout",
     "output_type": "stream",
     "text": [
      "Instance Count: 0\n"
     ]
    }
   ],
   "source": [
    "CounterManager.SPrintCount()"
   ]
  },
  {
   "cell_type": "code",
   "execution_count": 67,
   "id": "6202e165",
   "metadata": {},
   "outputs": [],
   "source": [
    "a, b, c = CounterManager(), CounterManager(), CounterManager()   # class를 가지고 한 번에 세 개의 인스턴스를 만듦"
   ]
  },
  {
   "cell_type": "code",
   "execution_count": 68,
   "id": "1429eb14",
   "metadata": {},
   "outputs": [
    {
     "name": "stdout",
     "output_type": "stream",
     "text": [
      "Instance Count: 3\n"
     ]
    }
   ],
   "source": [
    "CounterManager.SPrintCount()"
   ]
  },
  {
   "cell_type": "markdown",
   "id": "bfde21fb",
   "metadata": {},
   "source": [
    "# 상속"
   ]
  },
  {
   "cell_type": "code",
   "execution_count": 69,
   "id": "8b3b3768",
   "metadata": {},
   "outputs": [],
   "source": [
    "class Person :\n",
    "    def __init__(self, name, phone) :\n",
    "        self.Name = name\n",
    "        self.Phone = phone\n",
    "        \n",
    "    def PrintInfo(self) :\n",
    "        print('Info (Name: {0}, Phone: {1})'.format(self.Name, self.Phone))\n",
    "    \n",
    "    def PrintPersonData(self) :\n",
    "        print('Person(Name: {0}, Phone: {1})'.format(self.Name, self.Phone))\n",
    "        \n",
    "    # PrintInfo와 PrintPersonDate는 메소드"
   ]
  },
  {
   "cell_type": "code",
   "execution_count": 71,
   "id": "d5c23e9d",
   "metadata": {},
   "outputs": [],
   "source": [
    "class Student(Person) : # -> Student는 Person을 상속받아 만든다\n",
    "    def __init__(self, name, phone, subject, studentID) :\n",
    "        self.Name = name\n",
    "        self.Phone = phone\n",
    "        self.Subject = subject\n",
    "        self.StudentID = studentID\n",
    "        \n",
    "    # 메소드는 없고 상속자만 있지만, Person을 상속하기 때문의 위의 메소드가 모두 들어있다."
   ]
  },
  {
   "cell_type": "code",
   "execution_count": 72,
   "id": "e7d33a21",
   "metadata": {},
   "outputs": [],
   "source": [
    "p = Person('정일우' , '010-1111-1111')"
   ]
  },
  {
   "cell_type": "code",
   "execution_count": 73,
   "id": "8bdaafe9",
   "metadata": {},
   "outputs": [],
   "source": [
    "s = Student('전지현', '010-2222-2222', 'Model', '0001')  # s는 p의 서브클래스다."
   ]
  },
  {
   "cell_type": "code",
   "execution_count": 75,
   "id": "86accf83",
   "metadata": {},
   "outputs": [
    {
     "data": {
      "text/plain": [
       "{'Name': '정일우', 'Phone': '010-1111-1111'}"
      ]
     },
     "execution_count": 75,
     "metadata": {},
     "output_type": "execute_result"
    }
   ],
   "source": [
    "p.__dict__  # 모든 객체들은 __dict__를 사용해 안에 있는 속성들을 dict타입으로 확인할 수 있다."
   ]
  },
  {
   "cell_type": "code",
   "execution_count": 76,
   "id": "c6c047f3",
   "metadata": {},
   "outputs": [
    {
     "data": {
      "text/plain": [
       "{'Name': '전지현',\n",
       " 'Phone': '010-2222-2222',\n",
       " 'Subject': 'Model',\n",
       " 'StudentID': '0001'}"
      ]
     },
     "execution_count": 76,
     "metadata": {},
     "output_type": "execute_result"
    }
   ],
   "source": [
    "s.__dict__"
   ]
  },
  {
   "cell_type": "code",
   "execution_count": 77,
   "id": "15cdecb4",
   "metadata": {},
   "outputs": [
    {
     "data": {
      "text/plain": [
       "True"
      ]
     },
     "execution_count": 77,
     "metadata": {},
     "output_type": "execute_result"
    }
   ],
   "source": [
    "issubclass(Student, Person)"
   ]
  },
  {
   "cell_type": "code",
   "execution_count": 79,
   "id": "1ab2185e",
   "metadata": {},
   "outputs": [
    {
     "data": {
      "text/plain": [
       "False"
      ]
     },
     "execution_count": 79,
     "metadata": {},
     "output_type": "execute_result"
    }
   ],
   "source": [
    "issubclass(Person, Student)"
   ]
  },
  {
   "cell_type": "markdown",
   "id": "184c33f5",
   "metadata": {},
   "source": [
    "# 다중상속"
   ]
  },
  {
   "cell_type": "code",
   "execution_count": 80,
   "id": "cab9f298",
   "metadata": {},
   "outputs": [],
   "source": [
    "# 잘안쓰길 권장\n",
    "\n",
    "class Tiger :\n",
    "    def Jump(self) :\n",
    "        print('호랑이 점프')"
   ]
  },
  {
   "cell_type": "code",
   "execution_count": 81,
   "id": "f13cb8b7",
   "metadata": {},
   "outputs": [],
   "source": [
    "class Lion :\n",
    "    def Bite(self) :\n",
    "        print('사자의 물기')"
   ]
  },
  {
   "cell_type": "code",
   "execution_count": 82,
   "id": "ff213c29",
   "metadata": {},
   "outputs": [],
   "source": [
    "class Liger(Tiger, Lion) :\n",
    "    def Play(self) :\n",
    "        print('라이거의 놀기')"
   ]
  },
  {
   "cell_type": "code",
   "execution_count": 83,
   "id": "0f848005",
   "metadata": {},
   "outputs": [],
   "source": [
    "l = Liger()"
   ]
  },
  {
   "cell_type": "code",
   "execution_count": 84,
   "id": "d7d26e81",
   "metadata": {},
   "outputs": [
    {
     "name": "stdout",
     "output_type": "stream",
     "text": [
      "사자의 물기\n"
     ]
    }
   ],
   "source": [
    "l.Bite()"
   ]
  },
  {
   "cell_type": "code",
   "execution_count": 85,
   "id": "02e61715",
   "metadata": {},
   "outputs": [
    {
     "name": "stdout",
     "output_type": "stream",
     "text": [
      "호랑이 점프\n"
     ]
    }
   ],
   "source": [
    "l.Jump()"
   ]
  },
  {
   "cell_type": "code",
   "execution_count": 86,
   "id": "f35415f2",
   "metadata": {},
   "outputs": [
    {
     "name": "stdout",
     "output_type": "stream",
     "text": [
      "라이거의 놀기\n"
     ]
    }
   ],
   "source": [
    "l.Play()"
   ]
  },
  {
   "cell_type": "code",
   "execution_count": 88,
   "id": "0cae0021",
   "metadata": {},
   "outputs": [],
   "source": [
    "class Person():    # -> Person이라는 class를 그냥 만들더라도, 내부적으로는 Person(object)를 상속받는다. \n",
    "    pass"
   ]
  }
 ],
 "metadata": {
  "kernelspec": {
   "display_name": "Python 3",
   "language": "python",
   "name": "python3"
  },
  "language_info": {
   "codemirror_mode": {
    "name": "ipython",
    "version": 3
   },
   "file_extension": ".py",
   "mimetype": "text/x-python",
   "name": "python",
   "nbconvert_exporter": "python",
   "pygments_lexer": "ipython3",
   "version": "3.8.8"
  }
 },
 "nbformat": 4,
 "nbformat_minor": 5
}

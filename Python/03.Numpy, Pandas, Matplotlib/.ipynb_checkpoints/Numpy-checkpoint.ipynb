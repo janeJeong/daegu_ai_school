{
 "cells": [
  {
   "cell_type": "markdown",
   "id": "fd4369f4",
   "metadata": {},
   "source": [
    "# Numpy"
   ]
  },
  {
   "cell_type": "markdown",
   "id": "11d3fb91",
   "metadata": {},
   "source": [
    "## Numpy의 소개\n",
    "\n",
    "NumPy(Numerical Python)는 파이썬에서 과학적 계산을 위한 핵심 라이브러리이다. NumPy는 다차원 배열 객체와 배열과 함께 작동하는 도구들을 제공한다. 하지만 NumPy 자체로는 고수준의 데이터 분석 기능을 제공하지 않기 때문에 NumPy 배열과 배열 기반 컴퓨팅의 이해를 통해 pandas와 같은 도구를 좀 더 효율적으로 사용하는 것이 필요하다."
   ]
  },
  {
   "cell_type": "markdown",
   "id": "95a6c630",
   "metadata": {},
   "source": [
    "### ndarray 생성\n",
    "array 함수를 사용해서 배열을 생성하기"
   ]
  },
  {
   "cell_type": "code",
   "execution_count": 1,
   "id": "379e630e",
   "metadata": {},
   "outputs": [
    {
     "name": "stdout",
     "output_type": "stream",
     "text": [
      "[1 2 3 4]\n"
     ]
    }
   ],
   "source": [
    "import numpy as np\n",
    "\n",
    "## ndarray 생성\n",
    "arr = np.array([1, 2, 3, 4])    # -> list 타입처럼 보이지만 list타입은 아님 (, 없잖아)\n",
    "print(arr)"
   ]
  },
  {
   "cell_type": "code",
   "execution_count": 2,
   "id": "a91d0e9b",
   "metadata": {},
   "outputs": [
    {
     "data": {
      "text/plain": [
       "array([[0., 0., 0.],\n",
       "       [0., 0., 0.],\n",
       "       [0., 0., 0.]])"
      ]
     },
     "execution_count": 2,
     "metadata": {},
     "output_type": "execute_result"
    }
   ],
   "source": [
    "np.zeros((3, 3))    # .zeros -> 0으로 초기화 시킴, (구성요소가 3개인 배열이 3개 생김)"
   ]
  },
  {
   "cell_type": "code",
   "execution_count": 3,
   "id": "911da2a3",
   "metadata": {},
   "outputs": [
    {
     "data": {
      "text/plain": [
       "array([[1., 1.],\n",
       "       [1., 1.]])"
      ]
     },
     "execution_count": 3,
     "metadata": {},
     "output_type": "execute_result"
    }
   ],
   "source": [
    "np.ones((2, 2))    # .ones -> 1로 초기화 시킴 (구성요소가 2개인 배열이 2개 생김)"
   ]
  },
  {
   "cell_type": "code",
   "execution_count": 4,
   "id": "1d7d98f4",
   "metadata": {},
   "outputs": [
    {
     "data": {
      "text/plain": [
       "array([[4.67296746e-307, 1.69121096e-306, 1.29060871e-306,\n",
       "        1.02360867e-306],\n",
       "       [1.42418987e-306, 1.37961641e-306, 1.60220528e-306,\n",
       "        1.24611266e-306],\n",
       "       [9.34598925e-307, 1.24612081e-306, 1.11260755e-306,\n",
       "        1.60220393e-306],\n",
       "       [1.51320640e-306, 9.34609790e-307, 1.86921279e-306,\n",
       "        1.24610723e-306]])"
      ]
     },
     "execution_count": 4,
     "metadata": {},
     "output_type": "execute_result"
    }
   ],
   "source": [
    "np.empty((4, 4))   # .empty -> 빈 값의 배열 만들기 (아래 값들은 메모리 상에 있는 찌꺼기 값들)"
   ]
  },
  {
   "cell_type": "code",
   "execution_count": 5,
   "id": "3ed89cac",
   "metadata": {},
   "outputs": [
    {
     "data": {
      "text/plain": [
       "array([0, 1, 2, 3, 4, 5, 6, 7, 8, 9])"
      ]
     },
     "execution_count": 5,
     "metadata": {},
     "output_type": "execute_result"
    }
   ],
   "source": [
    "np.arange(10)   #  .arange(n) - 특정한 길이(범위)의 배열을 생성, (0부터 시작해서 n의 배열을 생성한다.)"
   ]
  },
  {
   "cell_type": "code",
   "execution_count": 6,
   "id": "fdd8746a",
   "metadata": {},
   "outputs": [
    {
     "data": {
      "text/plain": [
       "array([-5, -4, -3, -2, -1,  0,  1,  2,  3,  4])"
      ]
     },
     "execution_count": 6,
     "metadata": {},
     "output_type": "execute_result"
    }
   ],
   "source": [
    "np.arange(-5, 5, 1)  # -> -5 부터 5까지 1씩 증가해라"
   ]
  },
  {
   "cell_type": "markdown",
   "id": "6955b4d9",
   "metadata": {},
   "source": [
    "## ndarray 배열의 모양, 차수, 데이터 타입을 확인하는 방법"
   ]
  },
  {
   "cell_type": "code",
   "execution_count": 7,
   "id": "fb84ab07",
   "metadata": {},
   "outputs": [],
   "source": [
    "arr = np.array([[1, 2, 3],[4, 5, 6]])  # -> 구성요소가 3개인 배열이 2개가 생긴다. => 2차원 배열"
   ]
  },
  {
   "cell_type": "code",
   "execution_count": 8,
   "id": "340039b5",
   "metadata": {},
   "outputs": [
    {
     "name": "stdout",
     "output_type": "stream",
     "text": [
      "[[1 2 3]\n",
      " [4 5 6]]\n"
     ]
    }
   ],
   "source": [
    "print(arr)"
   ]
  },
  {
   "cell_type": "code",
   "execution_count": 9,
   "id": "73500cc4",
   "metadata": {},
   "outputs": [
    {
     "data": {
      "text/plain": [
       "(2, 3)"
      ]
     },
     "execution_count": 9,
     "metadata": {},
     "output_type": "execute_result"
    }
   ],
   "source": [
    "arr.shape    # .shape - 데이터의 구조를 알아봄 "
   ]
  },
  {
   "cell_type": "code",
   "execution_count": 10,
   "id": "df09da1e",
   "metadata": {},
   "outputs": [
    {
     "data": {
      "text/plain": [
       "2"
      ]
     },
     "execution_count": 10,
     "metadata": {},
     "output_type": "execute_result"
    }
   ],
   "source": [
    "arr.ndim    # .ndim - 몇 차원인가?"
   ]
  },
  {
   "cell_type": "code",
   "execution_count": 11,
   "id": "617d4ef0",
   "metadata": {},
   "outputs": [
    {
     "data": {
      "text/plain": [
       "dtype('int32')"
      ]
     },
     "execution_count": 11,
     "metadata": {},
     "output_type": "execute_result"
    }
   ],
   "source": [
    "arr.dtype"
   ]
  },
  {
   "cell_type": "markdown",
   "id": "d692ce33",
   "metadata": {},
   "source": [
    "# naarray 배열의 타입 변환\n",
    "astype 함수를 사용해서 정수형 데이터 배열을 실수형 데이터 배열로 변환하기"
   ]
  },
  {
   "cell_type": "code",
   "execution_count": 12,
   "id": "c337c9e8",
   "metadata": {},
   "outputs": [],
   "source": [
    "arr_int = np.array([1, 2, 3, 4])   # -> 정수형 배열"
   ]
  },
  {
   "cell_type": "code",
   "execution_count": 13,
   "id": "7799132f",
   "metadata": {},
   "outputs": [
    {
     "data": {
      "text/plain": [
       "dtype('int32')"
      ]
     },
     "execution_count": 13,
     "metadata": {},
     "output_type": "execute_result"
    }
   ],
   "source": [
    "arr_int.dtype     # 정수형 배열에 실수를 넣으면 소수점 아래가 잘려나감"
   ]
  },
  {
   "cell_type": "code",
   "execution_count": 14,
   "id": "a313fb4d",
   "metadata": {},
   "outputs": [],
   "source": [
    "arr_float = arr_int.astype(np.float64)  # .astype - 새로운 타입으로 변환시켜줌"
   ]
  },
  {
   "cell_type": "code",
   "execution_count": 15,
   "id": "9857dea9",
   "metadata": {},
   "outputs": [
    {
     "data": {
      "text/plain": [
       "dtype('float64')"
      ]
     },
     "execution_count": 15,
     "metadata": {},
     "output_type": "execute_result"
    }
   ],
   "source": [
    "arr_float.dtype"
   ]
  },
  {
   "cell_type": "code",
   "execution_count": 16,
   "id": "a91d5522",
   "metadata": {},
   "outputs": [
    {
     "name": "stdout",
     "output_type": "stream",
     "text": [
      "[1. 2. 3. 4.]\n"
     ]
    }
   ],
   "source": [
    "print(arr_float)"
   ]
  },
  {
   "cell_type": "markdown",
   "id": "cd9096eb",
   "metadata": {},
   "source": [
    "### 문자형 데이터 배열을 정수형 데이터 배열로 변환하기"
   ]
  },
  {
   "cell_type": "code",
   "execution_count": 17,
   "id": "32e9b14e",
   "metadata": {},
   "outputs": [],
   "source": [
    "arr_str = np.array(['1', '2', '3'])"
   ]
  },
  {
   "cell_type": "code",
   "execution_count": 18,
   "id": "6eb7f5c2",
   "metadata": {},
   "outputs": [
    {
     "data": {
      "text/plain": [
       "dtype('<U1')"
      ]
     },
     "execution_count": 18,
     "metadata": {},
     "output_type": "execute_result"
    }
   ],
   "source": [
    "arr_str.dtype  \n",
    "# <U1 - 유니코드 타입으로 저장되어 있다. (파이썬에 사용되는 데이터 타입은 기본적으로 유니코드 타입)"
   ]
  },
  {
   "cell_type": "code",
   "execution_count": 19,
   "id": "0c2d85fd",
   "metadata": {},
   "outputs": [],
   "source": [
    "arr_int = arr_str.astype(np.int64)"
   ]
  },
  {
   "cell_type": "code",
   "execution_count": 20,
   "id": "254ba771",
   "metadata": {},
   "outputs": [
    {
     "data": {
      "text/plain": [
       "dtype('int64')"
      ]
     },
     "execution_count": 20,
     "metadata": {},
     "output_type": "execute_result"
    }
   ],
   "source": [
    "arr_int.dtype"
   ]
  },
  {
   "cell_type": "markdown",
   "id": "e9190ea2",
   "metadata": {},
   "source": [
    "![Built-in Python types, ndarray data types](images/numpy-1.png\n",
    ")"
   ]
  },
  {
   "cell_type": "markdown",
   "id": "fd933ec4",
   "metadata": {},
   "source": [
    "![Data Types](images/numpy-2.png)"
   ]
  },
  {
   "cell_type": "markdown",
   "id": "727789d0",
   "metadata": {},
   "source": [
    "## ndarray 배열의 연산\n",
    "기본 연산자와 함수를 통해 배열 연산하기"
   ]
  },
  {
   "cell_type": "code",
   "execution_count": 21,
   "id": "c39b9bd1",
   "metadata": {},
   "outputs": [],
   "source": [
    "arr1 = np.array([[1, 2], [3, 4]])\n",
    "arr2 = np.array([[5, 6], [7, 8]])"
   ]
  },
  {
   "cell_type": "code",
   "execution_count": 22,
   "id": "2f5482df",
   "metadata": {},
   "outputs": [
    {
     "data": {
      "text/plain": [
       "array([[ 6,  8],\n",
       "       [10, 12]])"
      ]
     },
     "execution_count": 22,
     "metadata": {},
     "output_type": "execute_result"
    }
   ],
   "source": [
    "arr1 + arr2     # -> 각각의 차원에 맞는 것 끼리 연산이 된다."
   ]
  },
  {
   "cell_type": "code",
   "execution_count": 23,
   "id": "8cd3d149",
   "metadata": {},
   "outputs": [
    {
     "data": {
      "text/plain": [
       "array([[ 6,  8],\n",
       "       [10, 12]])"
      ]
     },
     "execution_count": 23,
     "metadata": {},
     "output_type": "execute_result"
    }
   ],
   "source": [
    "np.add(arr1, arr2)"
   ]
  },
  {
   "cell_type": "code",
   "execution_count": 24,
   "id": "29a92153",
   "metadata": {},
   "outputs": [
    {
     "data": {
      "text/plain": [
       "array([[ 5, 12],\n",
       "       [21, 32]])"
      ]
     },
     "execution_count": 24,
     "metadata": {},
     "output_type": "execute_result"
    }
   ],
   "source": [
    "arr1 * arr2"
   ]
  },
  {
   "cell_type": "code",
   "execution_count": 25,
   "id": "6da2932a",
   "metadata": {},
   "outputs": [
    {
     "data": {
      "text/plain": [
       "array([[ 5, 12],\n",
       "       [21, 32]])"
      ]
     },
     "execution_count": 25,
     "metadata": {},
     "output_type": "execute_result"
    }
   ],
   "source": [
    "np.multiply(arr1, arr2)"
   ]
  },
  {
   "cell_type": "markdown",
   "id": "6a4583c2",
   "metadata": {},
   "source": [
    "### numpy 배열의 연산은 연산자(+, -, *, /)나 함수(add, subtract, multiply, divide) 가능합니다."
   ]
  },
  {
   "cell_type": "code",
   "execution_count": 26,
   "id": "90aed047",
   "metadata": {},
   "outputs": [
    {
     "data": {
      "text/plain": [
       "array([[19, 22],\n",
       "       [43, 50]])"
      ]
     },
     "execution_count": 26,
     "metadata": {},
     "output_type": "execute_result"
    }
   ],
   "source": [
    "arr1.dot(arr2)   \n",
    "# -> 행렬(matrix)의 '곱', dot연산 - 행렬에 대한 연산, 각각의 차원이 다른 데이터들을 순서대로 곱해서 더하는 것?"
   ]
  },
  {
   "cell_type": "markdown",
   "id": "e3df6407",
   "metadata": {},
   "source": [
    "https://towardsdatascience.com/a-complete-beginners-guide-to-matrix-multiplication-for-data-science-with-python-numpy-9274ecfc1dc6"
   ]
  },
  {
   "cell_type": "code",
   "execution_count": 27,
   "id": "183bf4de",
   "metadata": {},
   "outputs": [
    {
     "data": {
      "text/plain": [
       "array([[19, 22],\n",
       "       [43, 50]])"
      ]
     },
     "execution_count": 27,
     "metadata": {},
     "output_type": "execute_result"
    }
   ],
   "source": [
    "np.dot(arr1, arr2)"
   ]
  },
  {
   "cell_type": "markdown",
   "id": "ad26ceba",
   "metadata": {},
   "source": [
    "앞에서 살펴본 것과 같이 Numpy 배열에 기본 연산자 *를 통한 곱은 행렬의 곱이 아닌 배열의 요소의 곱이다. 따라서 행렬의 곱을 수행하기 위해서는 dot 함수를 사용해야 한다."
   ]
  },
  {
   "cell_type": "markdown",
   "id": "e81d4f0c",
   "metadata": {},
   "source": [
    "## ndarray 배열 슬라이싱 하기"
   ]
  },
  {
   "cell_type": "code",
   "execution_count": 28,
   "id": "96279f27",
   "metadata": {},
   "outputs": [],
   "source": [
    "arr = np.array([[1, 2, 3], [4, 5, 6], [7, 8, 9]])"
   ]
  },
  {
   "cell_type": "code",
   "execution_count": 29,
   "id": "1fe5e403",
   "metadata": {},
   "outputs": [],
   "source": [
    "arr_1 = arr[:2, 1:3]"
   ]
  },
  {
   "cell_type": "code",
   "execution_count": 30,
   "id": "2eac498a",
   "metadata": {},
   "outputs": [
    {
     "name": "stdout",
     "output_type": "stream",
     "text": [
      "[[2 3]\n",
      " [5 6]]\n"
     ]
    }
   ],
   "source": [
    "print(arr_1)"
   ]
  },
  {
   "cell_type": "code",
   "execution_count": 31,
   "id": "d234dd14",
   "metadata": {},
   "outputs": [],
   "source": [
    "arr_1[0, 0] = 5   # arr_1을 수정"
   ]
  },
  {
   "cell_type": "code",
   "execution_count": 32,
   "id": "c9362038",
   "metadata": {},
   "outputs": [
    {
     "data": {
      "text/plain": [
       "array([[5, 3],\n",
       "       [5, 6]])"
      ]
     },
     "execution_count": 32,
     "metadata": {},
     "output_type": "execute_result"
    }
   ],
   "source": [
    "arr_1"
   ]
  },
  {
   "cell_type": "code",
   "execution_count": 33,
   "id": "801c463f",
   "metadata": {},
   "outputs": [
    {
     "data": {
      "text/plain": [
       "array([[1, 5, 3],\n",
       "       [4, 5, 6],\n",
       "       [7, 8, 9]])"
      ]
     },
     "execution_count": 33,
     "metadata": {},
     "output_type": "execute_result"
    }
   ],
   "source": [
    "arr      #  => 원본 데이터(arr)를 슬라이싱 한 것 = '원본데이터의 view'(arr_1)가 생기는 것\n",
    "         # arr_1을 수정하면 arr도 수정된다."
   ]
  },
  {
   "cell_type": "code",
   "execution_count": 34,
   "id": "a35ffc91",
   "metadata": {},
   "outputs": [],
   "source": [
    "arr = np.array([[1, 2, 3], [4, 5, 6]])"
   ]
  },
  {
   "cell_type": "code",
   "execution_count": 35,
   "id": "511d5313",
   "metadata": {},
   "outputs": [],
   "source": [
    "idx = arr > 3  # -> 조건"
   ]
  },
  {
   "cell_type": "code",
   "execution_count": 36,
   "id": "cfeb8b9d",
   "metadata": {},
   "outputs": [
    {
     "name": "stdout",
     "output_type": "stream",
     "text": [
      "[[False False False]\n",
      " [ True  True  True]]\n"
     ]
    }
   ],
   "source": [
    "print(idx)   # -> 조건의 결과"
   ]
  },
  {
   "cell_type": "code",
   "execution_count": 37,
   "id": "58f47262",
   "metadata": {},
   "outputs": [
    {
     "name": "stdout",
     "output_type": "stream",
     "text": [
      "[4 5 6]\n"
     ]
    }
   ],
   "source": [
    "print(arr[idx])  # -> 조건에 맞는 값(True)만 출력됨"
   ]
  },
  {
   "cell_type": "markdown",
   "id": "36a7742f",
   "metadata": {},
   "source": [
    "idx의 값들은 arr의 값이 3보다 큰 것인지(True), 같거나 작은 것인지(False) 나타낸다."
   ]
  },
  {
   "cell_type": "markdown",
   "id": "6f38f38c",
   "metadata": {},
   "source": [
    "### Wine Quality 데이터 설명\n",
    "\n",
    "Wine Quality 데이터에는 포르투갈의 레드 와인과 화이트 와인 두 개의 데이터 예시가 있다. 각각의 데이터 셋 안에는 물리화학적 실험에 대한 12개의 변수들이 있다. 변수에 대한 설명은 다음과 같다."
   ]
  },
  {
   "cell_type": "markdown",
   "id": "4b6908d5",
   "metadata": {},
   "source": [
    "![Wine Quality 데이터 변수 설명](images/numpy-3.png)"
   ]
  },
  {
   "cell_type": "code",
   "execution_count": 38,
   "id": "02bd0493",
   "metadata": {},
   "outputs": [],
   "source": [
    "import numpy as np\n",
    "\n",
    "redwine = np.loadtxt(fname = 'samples/winequality-red.csv', delimiter = ';', skiprows = 1)  \n",
    "# np.loadtxt - 텍스트 파일을 불러 온다 (fname - file name)\n",
    "# delimiter - 구획 문자 -> 생략하면 기본값이 ,(콤마)\n",
    "# skiprows - 스킵할 행(줄)"
   ]
  },
  {
   "cell_type": "code",
   "execution_count": 39,
   "id": "e352f320",
   "metadata": {},
   "outputs": [
    {
     "name": "stdout",
     "output_type": "stream",
     "text": [
      "[[ 7.4    0.7    0.    ...  0.56   9.4    5.   ]\n",
      " [ 7.8    0.88   0.    ...  0.68   9.8    5.   ]\n",
      " [ 7.8    0.76   0.04  ...  0.65   9.8    5.   ]\n",
      " ...\n",
      " [ 6.3    0.51   0.13  ...  0.75  11.     6.   ]\n",
      " [ 5.9    0.645  0.12  ...  0.71  10.2    5.   ]\n",
      " [ 6.     0.31   0.47  ...  0.66  11.     6.   ]]\n"
     ]
    }
   ],
   "source": [
    "print(redwine)"
   ]
  },
  {
   "cell_type": "code",
   "execution_count": 40,
   "id": "a075dedd",
   "metadata": {},
   "outputs": [
    {
     "data": {
      "text/plain": [
       "(1599, 12)"
      ]
     },
     "execution_count": 40,
     "metadata": {},
     "output_type": "execute_result"
    }
   ],
   "source": [
    "redwine.shape   # .shape - 구조 / 1599행이 있고, 12개의 열이 있다."
   ]
  },
  {
   "cell_type": "markdown",
   "id": "e1923632",
   "metadata": {},
   "source": [
    "### Wine Quality 데이터를 활용한 기초 통계 분석\n",
    "\n",
    "NumPy에는 기본적인 배열 통계 메서드가 있다. sum, mean과 같은 기본적인 통계 메서드를 통해 3.2에서 불러온 redwine 데이터의 기초적인 통계 분석을 해본다. 실습할 통계 메서드는 다음과 같다."
   ]
  },
  {
   "cell_type": "markdown",
   "id": "2a770e16",
   "metadata": {},
   "source": [
    "![배열 통계 메서드](images/numpy-4.png)"
   ]
  },
  {
   "cell_type": "code",
   "execution_count": 41,
   "id": "81cabf9f",
   "metadata": {},
   "outputs": [
    {
     "name": "stdout",
     "output_type": "stream",
     "text": [
      "152084.78194\n"
     ]
    }
   ],
   "source": [
    "print(redwine.sum())   # -> 전체 컬럼과 행의(전체 데이터의) 합 (일반적으로 이렇게는 안씀)"
   ]
  },
  {
   "cell_type": "code",
   "execution_count": 42,
   "id": "b023570e",
   "metadata": {},
   "outputs": [
    {
     "name": "stdout",
     "output_type": "stream",
     "text": [
      "7.926036165311652\n"
     ]
    }
   ],
   "source": [
    "print(redwine.mean())"
   ]
  },
  {
   "cell_type": "code",
   "execution_count": 43,
   "id": "7f368455",
   "metadata": {},
   "outputs": [
    {
     "name": "stdout",
     "output_type": "stream",
     "text": [
      "[ 8.31963727  0.52782051  0.27097561  2.5388055   0.08746654 15.87492183\n",
      " 46.46779237  0.99674668  3.3111132   0.65814884 10.42298311  5.63602251]\n"
     ]
    }
   ],
   "source": [
    "print(redwine.mean(axis = 0))    # axis = 축 -> axis = 0은 열, axis = 1은 행기준"
   ]
  },
  {
   "cell_type": "code",
   "execution_count": 44,
   "id": "0a238558",
   "metadata": {},
   "outputs": [
    {
     "data": {
      "text/plain": [
       "8.31963727329581"
      ]
     },
     "execution_count": 44,
     "metadata": {},
     "output_type": "execute_result"
    }
   ],
   "source": [
    "redwine[:, 0].mean()   # -> redwine의 전체 데이터에서 0번째 컬럼의 평균을 구한 것"
   ]
  },
  {
   "cell_type": "markdown",
   "id": "78c14fad",
   "metadata": {},
   "source": [
    "redwine.sum(): redwine 데이터 셋에 있는 모든 데이터의 합 <br>\n",
    "redwine.mean(): redwine 데이터 셋에 있는 모든 데이터의 평균 <br>\n",
    "redwine.mean(axis=0): redwine 데이터 셋의 열별(axis=0은 열을 뜻한다.) 평균, 이를 통해 각 변수별 평균을 알 수 있다. Fixed acidity의 평균은 8.31963722 이며, volatile acidity의 평균은 0.52782051 이다. <br>\n",
    "redwine[:0.mean(): redwine 데이터 셋의 첫번째 열 (0번째 열)의 모든 값들의 평균을 뜻한다. 즉, fixed acidity의 평균만 알 수 있다."
   ]
  },
  {
   "cell_type": "code",
   "execution_count": 45,
   "id": "72a718c9",
   "metadata": {},
   "outputs": [
    {
     "name": "stdout",
     "output_type": "stream",
     "text": [
      "[ 15.9       1.58      1.       15.5       0.611    72.      289.\n",
      "   1.00369   4.01      2.       14.9       8.     ]\n"
     ]
    }
   ],
   "source": [
    "print(redwine.max(axis = 0))"
   ]
  },
  {
   "cell_type": "code",
   "execution_count": 46,
   "id": "5ac8845f",
   "metadata": {},
   "outputs": [
    {
     "name": "stdout",
     "output_type": "stream",
     "text": [
      "[4.6     0.12    0.      0.9     0.012   1.      6.      0.99007 2.74\n",
      " 0.33    8.4     3.     ]\n"
     ]
    }
   ],
   "source": [
    "print(redwine.min(axis = 0))"
   ]
  }
 ],
 "metadata": {
  "kernelspec": {
   "display_name": "Python 3",
   "language": "python",
   "name": "python3"
  },
  "language_info": {
   "codemirror_mode": {
    "name": "ipython",
    "version": 3
   },
   "file_extension": ".py",
   "mimetype": "text/x-python",
   "name": "python",
   "nbconvert_exporter": "python",
   "pygments_lexer": "ipython3",
   "version": "3.8.8"
  }
 },
 "nbformat": 4,
 "nbformat_minor": 5
}
